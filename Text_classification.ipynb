{
 "cells": [
  {
   "cell_type": "code",
   "execution_count": 1,
   "id": "72097af0-b716-4376-b223-726b9af14b92",
   "metadata": {},
   "outputs": [],
   "source": [
    "import pandas as pd\n",
    "import pandas as pd\n",
    "import googletrans\n",
    "import seaborn as sea\n",
    "from googletrans import Translator\n",
    "from googletrans import LANGUAGES"
   ]
  },
  {
   "cell_type": "code",
   "execution_count": 2,
   "id": "c62e836c-6d16-499f-b19b-3eb789c75c96",
   "metadata": {},
   "outputs": [],
   "source": [
    "train_emo = pd.read_csv(\"C:/Users/levent/Downloads/Text_dataset/train_sent_emo.csv\")\n",
    "test_emo = pd.read_csv(\"C:/Users/levent/Downloads/Text_dataset/test_sent_emo.csv\")\n",
    "dev_emo = pd.read_csv(\"C:/Users/levent/Downloads/Text_dataset/dev_sent_emo.csv\")\n",
    "\n",
    "test_csv = pd.read_csv(\"C:/Users/levent/Downloads/Text_dataset/Emotion_dataset_test.csv\")\n",
    "train_csv = pd.read_csv(\"C:/Users/levent/Downloads/Text_dataset/Emotion_dataset_train.csv\")"
   ]
  },
  {
   "cell_type": "code",
   "execution_count": 3,
   "id": "82778764-77b7-4d52-b97e-0ffd16b749d7",
   "metadata": {},
   "outputs": [],
   "source": [
    "only_neutral_data=pd.read_csv(\"C:/Users/levent/tr_only_csv\")"
   ]
  },
  {
   "cell_type": "code",
   "execution_count": 4,
   "id": "0dcc7dc1-b959-4a43-80cc-ba2b5419cc3f",
   "metadata": {},
   "outputs": [
    {
     "data": {
      "text/html": [
       "<div>\n",
       "<style scoped>\n",
       "    .dataframe tbody tr th:only-of-type {\n",
       "        vertical-align: middle;\n",
       "    }\n",
       "\n",
       "    .dataframe tbody tr th {\n",
       "        vertical-align: top;\n",
       "    }\n",
       "\n",
       "    .dataframe thead th {\n",
       "        text-align: right;\n",
       "    }\n",
       "</style>\n",
       "<table border=\"1\" class=\"dataframe\">\n",
       "  <thead>\n",
       "    <tr style=\"text-align: right;\">\n",
       "      <th></th>\n",
       "      <th>batch</th>\n",
       "      <th>labels</th>\n",
       "    </tr>\n",
       "  </thead>\n",
       "  <tbody>\n",
       "    <tr>\n",
       "      <th>0</th>\n",
       "      <td>Ayrıca şirketimin KL-5'ten GR-6 sistemine geçi...</td>\n",
       "      <td>neutral</td>\n",
       "    </tr>\n",
       "    <tr>\n",
       "      <th>1</th>\n",
       "      <td>Eliniz çok dolu olmalı.</td>\n",
       "      <td>neutral</td>\n",
       "    </tr>\n",
       "    <tr>\n",
       "      <th>2</th>\n",
       "      <td>Bunu yaptım. Bunu yaptım.</td>\n",
       "      <td>neutral</td>\n",
       "    </tr>\n",
       "    <tr>\n",
       "      <th>3</th>\n",
       "      <td>Peki biraz da görevlerinizden bahsedelim.</td>\n",
       "      <td>neutral</td>\n",
       "    </tr>\n",
       "    <tr>\n",
       "      <th>4</th>\n",
       "      <td>Şimdi bir bölümün başında olacaksın, dolayısıy...</td>\n",
       "      <td>neutral</td>\n",
       "    </tr>\n",
       "    <tr>\n",
       "      <th>...</th>\n",
       "      <td>...</td>\n",
       "      <td>...</td>\n",
       "    </tr>\n",
       "    <tr>\n",
       "      <th>4705</th>\n",
       "      <td>Tut, tut.</td>\n",
       "      <td>neutral</td>\n",
       "    </tr>\n",
       "    <tr>\n",
       "      <th>4706</th>\n",
       "      <td>Bu konuda Chandler'ın tarafını tutuyorum.</td>\n",
       "      <td>neutral</td>\n",
       "    </tr>\n",
       "    <tr>\n",
       "      <th>4707</th>\n",
       "      <td>Sen mi ben mi?</td>\n",
       "      <td>neutral</td>\n",
       "    </tr>\n",
       "    <tr>\n",
       "      <th>4708</th>\n",
       "      <td>Anladım. Joey, kadınların Adem elması yoktur.</td>\n",
       "      <td>neutral</td>\n",
       "    </tr>\n",
       "    <tr>\n",
       "      <th>4709</th>\n",
       "      <td>Evet.</td>\n",
       "      <td>neutral</td>\n",
       "    </tr>\n",
       "  </tbody>\n",
       "</table>\n",
       "<p>4710 rows × 2 columns</p>\n",
       "</div>"
      ],
      "text/plain": [
       "                                                  batch   labels\n",
       "0     Ayrıca şirketimin KL-5'ten GR-6 sistemine geçi...  neutral\n",
       "1                               Eliniz çok dolu olmalı.  neutral\n",
       "2                             Bunu yaptım. Bunu yaptım.  neutral\n",
       "3             Peki biraz da görevlerinizden bahsedelim.  neutral\n",
       "4     Şimdi bir bölümün başında olacaksın, dolayısıy...  neutral\n",
       "...                                                 ...      ...\n",
       "4705                                          Tut, tut.  neutral\n",
       "4706          Bu konuda Chandler'ın tarafını tutuyorum.  neutral\n",
       "4707                                     Sen mi ben mi?  neutral\n",
       "4708      Anladım. Joey, kadınların Adem elması yoktur.  neutral\n",
       "4709                                              Evet.  neutral\n",
       "\n",
       "[4710 rows x 2 columns]"
      ]
     },
     "execution_count": 4,
     "metadata": {},
     "output_type": "execute_result"
    }
   ],
   "source": [
    "only_neutral_data"
   ]
  },
  {
   "cell_type": "code",
   "execution_count": 5,
   "id": "7e6a2da0-a639-45a4-8228-0c8f17135c3c",
   "metadata": {},
   "outputs": [],
   "source": [
    "only_neutral_halfdata = only_neutral_data.iloc[:len(only_neutral_data)//5] "
   ]
  },
  {
   "cell_type": "code",
   "execution_count": 6,
   "id": "db0f1667-6587-4da6-b20c-f1570580ec45",
   "metadata": {},
   "outputs": [
    {
     "data": {
      "text/html": [
       "<div>\n",
       "<style scoped>\n",
       "    .dataframe tbody tr th:only-of-type {\n",
       "        vertical-align: middle;\n",
       "    }\n",
       "\n",
       "    .dataframe tbody tr th {\n",
       "        vertical-align: top;\n",
       "    }\n",
       "\n",
       "    .dataframe thead th {\n",
       "        text-align: right;\n",
       "    }\n",
       "</style>\n",
       "<table border=\"1\" class=\"dataframe\">\n",
       "  <thead>\n",
       "    <tr style=\"text-align: right;\">\n",
       "      <th></th>\n",
       "      <th>batch</th>\n",
       "      <th>labels</th>\n",
       "    </tr>\n",
       "  </thead>\n",
       "  <tbody>\n",
       "    <tr>\n",
       "      <th>0</th>\n",
       "      <td>Ayrıca şirketimin KL-5'ten GR-6 sistemine geçi...</td>\n",
       "      <td>neutral</td>\n",
       "    </tr>\n",
       "    <tr>\n",
       "      <th>1</th>\n",
       "      <td>Eliniz çok dolu olmalı.</td>\n",
       "      <td>neutral</td>\n",
       "    </tr>\n",
       "    <tr>\n",
       "      <th>2</th>\n",
       "      <td>Bunu yaptım. Bunu yaptım.</td>\n",
       "      <td>neutral</td>\n",
       "    </tr>\n",
       "    <tr>\n",
       "      <th>3</th>\n",
       "      <td>Peki biraz da görevlerinizden bahsedelim.</td>\n",
       "      <td>neutral</td>\n",
       "    </tr>\n",
       "    <tr>\n",
       "      <th>4</th>\n",
       "      <td>Şimdi bir bölümün başında olacaksın, dolayısıy...</td>\n",
       "      <td>neutral</td>\n",
       "    </tr>\n",
       "    <tr>\n",
       "      <th>...</th>\n",
       "      <td>...</td>\n",
       "      <td>...</td>\n",
       "    </tr>\n",
       "    <tr>\n",
       "      <th>937</th>\n",
       "      <td>Ben de merak ediyordum....</td>\n",
       "      <td>neutral</td>\n",
       "    </tr>\n",
       "    <tr>\n",
       "      <th>938</th>\n",
       "      <td>Yani şef misin?</td>\n",
       "      <td>neutral</td>\n",
       "    </tr>\n",
       "    <tr>\n",
       "      <th>939</th>\n",
       "      <td>Monica, menümün arkasında seninle konuşabilir ...</td>\n",
       "      <td>neutral</td>\n",
       "    </tr>\n",
       "    <tr>\n",
       "      <th>940</th>\n",
       "      <td>Ben de sohbet ediyordum.</td>\n",
       "      <td>neutral</td>\n",
       "    </tr>\n",
       "    <tr>\n",
       "      <th>941</th>\n",
       "      <td>Harika olurdu. Teşekkür ederim.</td>\n",
       "      <td>neutral</td>\n",
       "    </tr>\n",
       "  </tbody>\n",
       "</table>\n",
       "<p>942 rows × 2 columns</p>\n",
       "</div>"
      ],
      "text/plain": [
       "                                                 batch   labels\n",
       "0    Ayrıca şirketimin KL-5'ten GR-6 sistemine geçi...  neutral\n",
       "1                              Eliniz çok dolu olmalı.  neutral\n",
       "2                            Bunu yaptım. Bunu yaptım.  neutral\n",
       "3            Peki biraz da görevlerinizden bahsedelim.  neutral\n",
       "4    Şimdi bir bölümün başında olacaksın, dolayısıy...  neutral\n",
       "..                                                 ...      ...\n",
       "937                         Ben de merak ediyordum....  neutral\n",
       "938                                    Yani şef misin?  neutral\n",
       "939  Monica, menümün arkasında seninle konuşabilir ...  neutral\n",
       "940                           Ben de sohbet ediyordum.  neutral\n",
       "941                    Harika olurdu. Teşekkür ederim.  neutral\n",
       "\n",
       "[942 rows x 2 columns]"
      ]
     },
     "execution_count": 6,
     "metadata": {},
     "output_type": "execute_result"
    }
   ],
   "source": [
    "only_neutral_halfdata"
   ]
  },
  {
   "cell_type": "code",
   "execution_count": 7,
   "id": "4510b5bb-7754-46e2-9a7b-ca53fcadf6ea",
   "metadata": {},
   "outputs": [],
   "source": [
    "tr_train_data=pd.DataFrame()\n",
    "tr_train_data['batch']=train_csv['Sentence']\n",
    "tr_train_data['labels']=train_csv['Label']\n"
   ]
  },
  {
   "cell_type": "code",
   "execution_count": 8,
   "id": "5f3accd5-cb92-4d93-b699-1e93f3d2a9bc",
   "metadata": {},
   "outputs": [],
   "source": [
    "tr_test_data=pd.DataFrame()\n",
    "tr_test_data['batch']=test_csv['Sentence']\n",
    "tr_test_data['labels']=test_csv['label']"
   ]
  },
  {
   "cell_type": "code",
   "execution_count": 9,
   "id": "3c450cb8-150d-4228-877a-3629e1e32f6b",
   "metadata": {},
   "outputs": [
    {
     "data": {
      "text/plain": [
       "<Axes: xlabel='count', ylabel='labels'>"
      ]
     },
     "execution_count": 9,
     "metadata": {},
     "output_type": "execute_result"
    },
    {
     "data": {
      "image/png": "[encoded data removed]",
      "text/plain": [
       "<Figure size 640x480 with 1 Axes>"
      ]
     },
     "metadata": {},
     "output_type": "display_data"
    }
   ],
   "source": [
    "sea.countplot(tr_train_data['labels'])"
   ]
  },
  {
   "cell_type": "code",
   "execution_count": 10,
   "id": "5f7fc7d0-a24f-4d72-a1ce-5f5cd464ee1c",
   "metadata": {},
   "outputs": [
    {
     "data": {
      "text/html": [
       "<div>\n",
       "<style scoped>\n",
       "    .dataframe tbody tr th:only-of-type {\n",
       "        vertical-align: middle;\n",
       "    }\n",
       "\n",
       "    .dataframe tbody tr th {\n",
       "        vertical-align: top;\n",
       "    }\n",
       "\n",
       "    .dataframe thead th {\n",
       "        text-align: right;\n",
       "    }\n",
       "</style>\n",
       "<table border=\"1\" class=\"dataframe\">\n",
       "  <thead>\n",
       "    <tr style=\"text-align: right;\">\n",
       "      <th></th>\n",
       "      <th>batch</th>\n",
       "      <th>labels</th>\n",
       "    </tr>\n",
       "  </thead>\n",
       "  <tbody>\n",
       "    <tr>\n",
       "      <th>0</th>\n",
       "      <td>Allah aşkına bi fırça neden 250 tl neden yani ...</td>\n",
       "      <td>kızgın</td>\n",
       "    </tr>\n",
       "    <tr>\n",
       "      <th>1</th>\n",
       "      <td>Muavin bir şey içip içmediğimi sormak için ben...</td>\n",
       "      <td>surpriz</td>\n",
       "    </tr>\n",
       "    <tr>\n",
       "      <th>2</th>\n",
       "      <td>Herkese güzel günler öpüyorum sizler tivitır a...</td>\n",
       "      <td>mutlu</td>\n",
       "    </tr>\n",
       "    <tr>\n",
       "      <th>3</th>\n",
       "      <td>Ya şu sevgililerin birbirine şifre verme olayı...</td>\n",
       "      <td>kızgın</td>\n",
       "    </tr>\n",
       "    <tr>\n",
       "      <th>4</th>\n",
       "      <td>Almanya'da 'yok artık' dedirten olay! Nereye p...</td>\n",
       "      <td>surpriz</td>\n",
       "    </tr>\n",
       "    <tr>\n",
       "      <th>...</th>\n",
       "      <td>...</td>\n",
       "      <td>...</td>\n",
       "    </tr>\n",
       "    <tr>\n",
       "      <th>3895</th>\n",
       "      <td>Onu görünce ben de ürktüm bir başta sonra yeni...</td>\n",
       "      <td>korku</td>\n",
       "    </tr>\n",
       "    <tr>\n",
       "      <th>3896</th>\n",
       "      <td>Gece sabaha kadar 50 tane kabus gördüm nasıl b...</td>\n",
       "      <td>korku</td>\n",
       "    </tr>\n",
       "    <tr>\n",
       "      <th>3897</th>\n",
       "      <td>Sustum senden sonra, sessize aldım dilimi. Ne ...</td>\n",
       "      <td>korku</td>\n",
       "    </tr>\n",
       "    <tr>\n",
       "      <th>3898</th>\n",
       "      <td>mutsuzum çünkü ders çalışamıyorum odaklanamıyo...</td>\n",
       "      <td>üzgün</td>\n",
       "    </tr>\n",
       "    <tr>\n",
       "      <th>3899</th>\n",
       "      <td>Metroda bile çeken telefon evde çekmiyor. İnsa...</td>\n",
       "      <td>surpriz</td>\n",
       "    </tr>\n",
       "  </tbody>\n",
       "</table>\n",
       "<p>3900 rows × 2 columns</p>\n",
       "</div>"
      ],
      "text/plain": [
       "                                                  batch   labels\n",
       "0     Allah aşkına bi fırça neden 250 tl neden yani ...   kızgın\n",
       "1     Muavin bir şey içip içmediğimi sormak için ben...  surpriz\n",
       "2     Herkese güzel günler öpüyorum sizler tivitır a...    mutlu\n",
       "3     Ya şu sevgililerin birbirine şifre verme olayı...   kızgın\n",
       "4     Almanya'da 'yok artık' dedirten olay! Nereye p...  surpriz\n",
       "...                                                 ...      ...\n",
       "3895  Onu görünce ben de ürktüm bir başta sonra yeni...    korku\n",
       "3896  Gece sabaha kadar 50 tane kabus gördüm nasıl b...    korku\n",
       "3897  Sustum senden sonra, sessize aldım dilimi. Ne ...    korku\n",
       "3898  mutsuzum çünkü ders çalışamıyorum odaklanamıyo...    üzgün\n",
       "3899  Metroda bile çeken telefon evde çekmiyor. İnsa...  surpriz\n",
       "\n",
       "[3900 rows x 2 columns]"
      ]
     },
     "execution_count": 10,
     "metadata": {},
     "output_type": "execute_result"
    }
   ],
   "source": [
    "tr_train_data"
   ]
  },
  {
   "cell_type": "code",
   "execution_count": 11,
   "id": "7c2ed6f3-7989-4ef3-b5e1-c0139505e2e2",
   "metadata": {},
   "outputs": [],
   "source": [
    "All_data = pd.concat([tr_train_data,tr_test_data, only_neutral_halfdata], ignore_index=True)"
   ]
  },
  {
   "cell_type": "code",
   "execution_count": 12,
   "id": "0e0f3e2e-05ae-4659-8b65-dde91a7fc303",
   "metadata": {},
   "outputs": [
    {
     "data": {
      "text/plain": [
       "<Axes: xlabel='count', ylabel='labels'>"
      ]
     },
     "execution_count": 12,
     "metadata": {},
     "output_type": "execute_result"
    },
    {
     "data": {
      "image/png": "[encoded data removed]",
      "text/plain": [
       "<Figure size 640x480 with 1 Axes>"
      ]
     },
     "metadata": {},
     "output_type": "display_data"
    }
   ],
   "source": [
    "sea.countplot(All_data['labels'])"
   ]
  },
  {
   "cell_type": "code",
   "execution_count": 13,
   "id": "23417a26-8d86-4c39-8c73-dc5c86561f90",
   "metadata": {},
   "outputs": [],
   "source": [
    "Filtered_data = All_data[~All_data['labels'].isin(['korku'])]"
   ]
  },
  {
   "cell_type": "code",
   "execution_count": 14,
   "id": "e79ae266-2043-4cef-a4a6-97649325f6fc",
   "metadata": {},
   "outputs": [
    {
     "data": {
      "text/plain": [
       "<Axes: xlabel='count', ylabel='labels'>"
      ]
     },
     "execution_count": 14,
     "metadata": {},
     "output_type": "execute_result"
    },
    {
     "data": {
      "image/png": "[encoded data removed]",
      "text/plain": [
       "<Figure size 640x480 with 1 Axes>"
      ]
     },
     "metadata": {},
     "output_type": "display_data"
    }
   ],
   "source": [
    "sea.countplot(Filtered_data['labels'])"
   ]
  },
  {
   "cell_type": "code",
   "execution_count": 15,
   "id": "b86dc27c-a485-4bff-90cd-321bcaf17ece",
   "metadata": {},
   "outputs": [],
   "source": [
    "labels_list = {\n",
    "    'kızgın': 'angry',\n",
    "    'mutlu': 'happy',\n",
    "    'neutral': 'neutral',\n",
    "    'üzgün': 'sad',\n",
    "    'surpriz': 'surprised'\n",
    "}"
   ]
  },
  {
   "cell_type": "code",
   "execution_count": 16,
   "id": "30ed2fc9-f8b5-48e3-9cc3-98988b7bdf53",
   "metadata": {},
   "outputs": [],
   "source": [
    "def list_text_features(label,list):\n",
    "    if label in list: \n",
    "        emotion = list.get(label)\n",
    "    return emotion"
   ]
  },
  {
   "cell_type": "code",
   "execution_count": 17,
   "id": "2dee13ed-1baa-4a70-bad9-bf65ec4f2de8",
   "metadata": {},
   "outputs": [],
   "source": [
    "remastered_labels = [list_text_features(path,labels_list) for path in Filtered_data['labels']]"
   ]
  },
  {
   "cell_type": "code",
   "execution_count": 18,
   "id": "daf97f7c-ca0f-44af-9b4b-05ee0bdd3b80",
   "metadata": {
    "scrolled": true
   },
   "outputs": [
    {
     "data": {
      "text/plain": [
       "['angry',\n",
       " 'surprised',\n",
       " 'happy',\n",
       " 'angry',\n",
       " 'surprised',\n",
       " 'angry',\n",
       " 'angry',\n",
       " 'angry',\n",
       " 'surprised',\n",
       " 'sad',\n",
       " 'sad',\n",
       " 'happy',\n",
       " 'sad',\n",
       " 'happy',\n",
       " 'sad',\n",
       " 'angry',\n",
       " 'angry',\n",
       " 'sad',\n",
       " 'happy',\n",
       " 'surprised',\n",
       " 'surprised',\n",
       " 'sad',\n",
       " 'surprised',\n",
       " 'happy',\n",
       " 'sad',\n",
       " 'angry',\n",
       " 'surprised',\n",
       " 'sad',\n",
       " 'happy',\n",
       " 'surprised',\n",
       " 'happy',\n",
       " 'surprised',\n",
       " 'surprised',\n",
       " 'surprised',\n",
       " 'angry',\n",
       " 'happy',\n",
       " 'happy',\n",
       " 'angry',\n",
       " 'angry',\n",
       " 'angry',\n",
       " 'surprised',\n",
       " 'happy',\n",
       " 'sad',\n",
       " 'happy',\n",
       " 'surprised',\n",
       " 'angry',\n",
       " 'happy',\n",
       " 'surprised',\n",
       " 'surprised',\n",
       " 'sad',\n",
       " 'surprised',\n",
       " 'happy',\n",
       " 'sad',\n",
       " 'sad',\n",
       " 'happy',\n",
       " 'happy',\n",
       " 'angry',\n",
       " 'sad',\n",
       " 'happy',\n",
       " 'angry',\n",
       " 'angry',\n",
       " 'sad',\n",
       " 'angry',\n",
       " 'surprised',\n",
       " 'surprised',\n",
       " 'angry',\n",
       " 'surprised',\n",
       " 'sad',\n",
       " 'surprised',\n",
       " 'sad',\n",
       " 'sad',\n",
       " 'sad',\n",
       " 'sad',\n",
       " 'happy',\n",
       " 'angry',\n",
       " 'happy',\n",
       " 'surprised',\n",
       " 'sad',\n",
       " 'happy',\n",
       " 'sad',\n",
       " 'happy',\n",
       " 'angry',\n",
       " 'angry',\n",
       " 'surprised',\n",
       " 'sad',\n",
       " 'sad',\n",
       " 'surprised',\n",
       " 'happy',\n",
       " 'angry',\n",
       " 'sad',\n",
       " 'sad',\n",
       " 'happy',\n",
       " 'sad',\n",
       " 'surprised',\n",
       " 'happy',\n",
       " 'angry',\n",
       " 'surprised',\n",
       " 'surprised',\n",
       " 'angry',\n",
       " 'sad',\n",
       " 'surprised',\n",
       " 'happy',\n",
       " 'happy',\n",
       " 'surprised',\n",
       " 'sad',\n",
       " 'happy',\n",
       " 'sad',\n",
       " 'happy',\n",
       " 'happy',\n",
       " 'angry',\n",
       " 'angry',\n",
       " 'angry',\n",
       " 'surprised',\n",
       " 'surprised',\n",
       " 'sad',\n",
       " 'sad',\n",
       " 'angry',\n",
       " 'surprised',\n",
       " 'angry',\n",
       " 'surprised',\n",
       " 'angry',\n",
       " 'angry',\n",
       " 'sad',\n",
       " 'happy',\n",
       " 'sad',\n",
       " 'surprised',\n",
       " 'happy',\n",
       " 'sad',\n",
       " 'sad',\n",
       " 'angry',\n",
       " 'angry',\n",
       " 'happy',\n",
       " 'surprised',\n",
       " 'sad',\n",
       " 'sad',\n",
       " 'sad',\n",
       " 'surprised',\n",
       " 'angry',\n",
       " 'sad',\n",
       " 'happy',\n",
       " 'surprised',\n",
       " 'surprised',\n",
       " 'angry',\n",
       " 'sad',\n",
       " 'happy',\n",
       " 'happy',\n",
       " 'surprised',\n",
       " 'angry',\n",
       " 'surprised',\n",
       " 'happy',\n",
       " 'angry',\n",
       " 'happy',\n",
       " 'surprised',\n",
       " 'angry',\n",
       " 'surprised',\n",
       " 'angry',\n",
       " 'surprised',\n",
       " 'sad',\n",
       " 'angry',\n",
       " 'happy',\n",
       " 'happy',\n",
       " 'angry',\n",
       " 'angry',\n",
       " 'angry',\n",
       " 'angry',\n",
       " 'happy',\n",
       " 'angry',\n",
       " 'happy',\n",
       " 'angry',\n",
       " 'surprised',\n",
       " 'surprised',\n",
       " 'angry',\n",
       " 'sad',\n",
       " 'sad',\n",
       " 'happy',\n",
       " 'surprised',\n",
       " 'angry',\n",
       " 'sad',\n",
       " 'sad',\n",
       " 'surprised',\n",
       " 'angry',\n",
       " 'sad',\n",
       " 'angry',\n",
       " 'happy',\n",
       " 'surprised',\n",
       " 'angry',\n",
       " 'surprised',\n",
       " 'sad',\n",
       " 'happy',\n",
       " 'angry',\n",
       " 'angry',\n",
       " 'angry',\n",
       " 'happy',\n",
       " 'happy',\n",
       " 'angry',\n",
       " 'happy',\n",
       " 'happy',\n",
       " 'happy',\n",
       " 'sad',\n",
       " 'happy',\n",
       " 'happy',\n",
       " 'surprised',\n",
       " 'angry',\n",
       " 'angry',\n",
       " 'happy',\n",
       " 'angry',\n",
       " 'sad',\n",
       " 'angry',\n",
       " 'sad',\n",
       " 'angry',\n",
       " 'surprised',\n",
       " 'sad',\n",
       " 'happy',\n",
       " 'angry',\n",
       " 'angry',\n",
       " 'surprised',\n",
       " 'angry',\n",
       " 'happy',\n",
       " 'sad',\n",
       " 'angry',\n",
       " 'happy',\n",
       " 'surprised',\n",
       " 'sad',\n",
       " 'happy',\n",
       " 'happy',\n",
       " 'angry',\n",
       " 'happy',\n",
       " 'sad',\n",
       " 'sad',\n",
       " 'surprised',\n",
       " 'angry',\n",
       " 'angry',\n",
       " 'sad',\n",
       " 'angry',\n",
       " 'sad',\n",
       " 'angry',\n",
       " 'surprised',\n",
       " 'surprised',\n",
       " 'surprised',\n",
       " 'happy',\n",
       " 'surprised',\n",
       " 'sad',\n",
       " 'happy',\n",
       " 'surprised',\n",
       " 'happy',\n",
       " 'angry',\n",
       " 'angry',\n",
       " 'happy',\n",
       " 'surprised',\n",
       " 'happy',\n",
       " 'angry',\n",
       " 'surprised',\n",
       " 'happy',\n",
       " 'happy',\n",
       " 'angry',\n",
       " 'surprised',\n",
       " 'angry',\n",
       " 'happy',\n",
       " 'surprised',\n",
       " 'happy',\n",
       " 'angry',\n",
       " 'sad',\n",
       " 'angry',\n",
       " 'sad',\n",
       " 'angry',\n",
       " 'happy',\n",
       " 'angry',\n",
       " 'sad',\n",
       " 'sad',\n",
       " 'angry',\n",
       " 'angry',\n",
       " 'surprised',\n",
       " 'happy',\n",
       " 'sad',\n",
       " 'angry',\n",
       " 'surprised',\n",
       " 'happy',\n",
       " 'surprised',\n",
       " 'angry',\n",
       " 'sad',\n",
       " 'sad',\n",
       " 'sad',\n",
       " 'sad',\n",
       " 'surprised',\n",
       " 'angry',\n",
       " 'happy',\n",
       " 'surprised',\n",
       " 'happy',\n",
       " 'happy',\n",
       " 'angry',\n",
       " 'sad',\n",
       " 'surprised',\n",
       " 'sad',\n",
       " 'sad',\n",
       " 'angry',\n",
       " 'sad',\n",
       " 'angry',\n",
       " 'sad',\n",
       " 'angry',\n",
       " 'angry',\n",
       " 'sad',\n",
       " 'sad',\n",
       " 'happy',\n",
       " 'surprised',\n",
       " 'angry',\n",
       " 'surprised',\n",
       " 'sad',\n",
       " 'angry',\n",
       " 'surprised',\n",
       " 'sad',\n",
       " 'surprised',\n",
       " 'sad',\n",
       " 'surprised',\n",
       " 'sad',\n",
       " 'angry',\n",
       " 'surprised',\n",
       " 'happy',\n",
       " 'happy',\n",
       " 'angry',\n",
       " 'angry',\n",
       " 'angry',\n",
       " 'surprised',\n",
       " 'sad',\n",
       " 'angry',\n",
       " 'sad',\n",
       " 'happy',\n",
       " 'happy',\n",
       " 'surprised',\n",
       " 'happy',\n",
       " 'surprised',\n",
       " 'angry',\n",
       " 'sad',\n",
       " 'sad',\n",
       " 'happy',\n",
       " 'happy',\n",
       " 'angry',\n",
       " 'happy',\n",
       " 'sad',\n",
       " 'surprised',\n",
       " 'surprised',\n",
       " 'happy',\n",
       " 'angry',\n",
       " 'angry',\n",
       " 'angry',\n",
       " 'sad',\n",
       " 'sad',\n",
       " 'surprised',\n",
       " 'surprised',\n",
       " 'angry',\n",
       " 'happy',\n",
       " 'angry',\n",
       " 'surprised',\n",
       " 'angry',\n",
       " 'surprised',\n",
       " 'angry',\n",
       " 'angry',\n",
       " 'angry',\n",
       " 'sad',\n",
       " 'sad',\n",
       " 'sad',\n",
       " 'happy',\n",
       " 'surprised',\n",
       " 'happy',\n",
       " 'happy',\n",
       " 'surprised',\n",
       " 'sad',\n",
       " 'angry',\n",
       " 'angry',\n",
       " 'angry',\n",
       " 'angry',\n",
       " 'sad',\n",
       " 'surprised',\n",
       " 'surprised',\n",
       " 'sad',\n",
       " 'sad',\n",
       " 'sad',\n",
       " 'happy',\n",
       " 'surprised',\n",
       " 'sad',\n",
       " 'angry',\n",
       " 'happy',\n",
       " 'happy',\n",
       " 'angry',\n",
       " 'sad',\n",
       " 'sad',\n",
       " 'surprised',\n",
       " 'angry',\n",
       " 'angry',\n",
       " 'angry',\n",
       " 'happy',\n",
       " 'happy',\n",
       " 'happy',\n",
       " 'happy',\n",
       " 'angry',\n",
       " 'surprised',\n",
       " 'surprised',\n",
       " 'happy',\n",
       " 'surprised',\n",
       " 'sad',\n",
       " 'sad',\n",
       " 'surprised',\n",
       " 'surprised',\n",
       " 'angry',\n",
       " 'happy',\n",
       " 'happy',\n",
       " 'surprised',\n",
       " 'happy',\n",
       " 'angry',\n",
       " 'sad',\n",
       " 'angry',\n",
       " 'angry',\n",
       " 'happy',\n",
       " 'happy',\n",
       " 'angry',\n",
       " 'sad',\n",
       " 'angry',\n",
       " 'angry',\n",
       " 'sad',\n",
       " 'surprised',\n",
       " 'happy',\n",
       " 'happy',\n",
       " 'surprised',\n",
       " 'surprised',\n",
       " 'surprised',\n",
       " 'surprised',\n",
       " 'sad',\n",
       " 'angry',\n",
       " 'angry',\n",
       " 'angry',\n",
       " 'sad',\n",
       " 'surprised',\n",
       " 'happy',\n",
       " 'sad',\n",
       " 'sad',\n",
       " 'sad',\n",
       " 'surprised',\n",
       " 'happy',\n",
       " 'surprised',\n",
       " 'sad',\n",
       " 'happy',\n",
       " 'happy',\n",
       " 'sad',\n",
       " 'happy',\n",
       " 'happy',\n",
       " 'angry',\n",
       " 'surprised',\n",
       " 'sad',\n",
       " 'sad',\n",
       " 'sad',\n",
       " 'happy',\n",
       " 'happy',\n",
       " 'surprised',\n",
       " 'surprised',\n",
       " 'happy',\n",
       " 'surprised',\n",
       " 'sad',\n",
       " 'surprised',\n",
       " 'happy',\n",
       " 'angry',\n",
       " 'happy',\n",
       " 'sad',\n",
       " 'happy',\n",
       " 'happy',\n",
       " 'angry',\n",
       " 'sad',\n",
       " 'sad',\n",
       " 'sad',\n",
       " 'surprised',\n",
       " 'surprised',\n",
       " 'happy',\n",
       " 'angry',\n",
       " 'happy',\n",
       " 'surprised',\n",
       " 'happy',\n",
       " 'surprised',\n",
       " 'surprised',\n",
       " 'surprised',\n",
       " 'happy',\n",
       " 'happy',\n",
       " 'angry',\n",
       " 'happy',\n",
       " 'surprised',\n",
       " 'angry',\n",
       " 'angry',\n",
       " 'sad',\n",
       " 'happy',\n",
       " 'surprised',\n",
       " 'angry',\n",
       " 'surprised',\n",
       " 'angry',\n",
       " 'happy',\n",
       " 'sad',\n",
       " 'happy',\n",
       " 'sad',\n",
       " 'happy',\n",
       " 'happy',\n",
       " 'angry',\n",
       " 'angry',\n",
       " 'angry',\n",
       " 'surprised',\n",
       " 'happy',\n",
       " 'happy',\n",
       " 'sad',\n",
       " 'surprised',\n",
       " 'happy',\n",
       " 'angry',\n",
       " 'surprised',\n",
       " 'happy',\n",
       " 'surprised',\n",
       " 'angry',\n",
       " 'sad',\n",
       " 'surprised',\n",
       " 'angry',\n",
       " 'happy',\n",
       " 'surprised',\n",
       " 'angry',\n",
       " 'happy',\n",
       " 'surprised',\n",
       " 'surprised',\n",
       " 'surprised',\n",
       " 'angry',\n",
       " 'happy',\n",
       " 'happy',\n",
       " 'surprised',\n",
       " 'surprised',\n",
       " 'happy',\n",
       " 'sad',\n",
       " 'angry',\n",
       " 'sad',\n",
       " 'sad',\n",
       " 'surprised',\n",
       " 'sad',\n",
       " 'happy',\n",
       " 'sad',\n",
       " 'sad',\n",
       " 'surprised',\n",
       " 'sad',\n",
       " 'happy',\n",
       " 'angry',\n",
       " 'angry',\n",
       " 'angry',\n",
       " 'happy',\n",
       " 'angry',\n",
       " 'happy',\n",
       " 'sad',\n",
       " 'happy',\n",
       " 'surprised',\n",
       " 'sad',\n",
       " 'angry',\n",
       " 'surprised',\n",
       " 'angry',\n",
       " 'sad',\n",
       " 'sad',\n",
       " 'surprised',\n",
       " 'angry',\n",
       " 'angry',\n",
       " 'angry',\n",
       " 'happy',\n",
       " 'angry',\n",
       " 'angry',\n",
       " 'happy',\n",
       " 'angry',\n",
       " 'happy',\n",
       " 'angry',\n",
       " 'sad',\n",
       " 'surprised',\n",
       " 'sad',\n",
       " 'happy',\n",
       " 'happy',\n",
       " 'sad',\n",
       " 'happy',\n",
       " 'sad',\n",
       " 'surprised',\n",
       " 'surprised',\n",
       " 'sad',\n",
       " 'surprised',\n",
       " 'happy',\n",
       " 'surprised',\n",
       " 'happy',\n",
       " 'sad',\n",
       " 'angry',\n",
       " 'happy',\n",
       " 'sad',\n",
       " 'angry',\n",
       " 'sad',\n",
       " 'sad',\n",
       " 'sad',\n",
       " 'sad',\n",
       " 'angry',\n",
       " 'happy',\n",
       " 'sad',\n",
       " 'sad',\n",
       " 'sad',\n",
       " 'sad',\n",
       " 'angry',\n",
       " 'happy',\n",
       " 'happy',\n",
       " 'sad',\n",
       " 'angry',\n",
       " 'angry',\n",
       " 'sad',\n",
       " 'surprised',\n",
       " 'surprised',\n",
       " 'surprised',\n",
       " 'sad',\n",
       " 'angry',\n",
       " 'sad',\n",
       " 'angry',\n",
       " 'surprised',\n",
       " 'angry',\n",
       " 'surprised',\n",
       " 'happy',\n",
       " 'sad',\n",
       " 'surprised',\n",
       " 'surprised',\n",
       " 'sad',\n",
       " 'angry',\n",
       " 'sad',\n",
       " 'surprised',\n",
       " 'surprised',\n",
       " 'happy',\n",
       " 'angry',\n",
       " 'angry',\n",
       " 'surprised',\n",
       " 'happy',\n",
       " 'sad',\n",
       " 'angry',\n",
       " 'angry',\n",
       " 'sad',\n",
       " 'happy',\n",
       " 'angry',\n",
       " 'surprised',\n",
       " 'angry',\n",
       " 'angry',\n",
       " 'happy',\n",
       " 'surprised',\n",
       " 'angry',\n",
       " 'sad',\n",
       " 'angry',\n",
       " 'sad',\n",
       " 'angry',\n",
       " 'angry',\n",
       " 'surprised',\n",
       " 'sad',\n",
       " 'sad',\n",
       " 'happy',\n",
       " 'angry',\n",
       " 'angry',\n",
       " 'happy',\n",
       " 'surprised',\n",
       " 'surprised',\n",
       " 'sad',\n",
       " 'happy',\n",
       " 'surprised',\n",
       " 'sad',\n",
       " 'angry',\n",
       " 'happy',\n",
       " 'surprised',\n",
       " 'surprised',\n",
       " 'angry',\n",
       " 'happy',\n",
       " 'happy',\n",
       " 'angry',\n",
       " 'surprised',\n",
       " 'angry',\n",
       " 'surprised',\n",
       " 'angry',\n",
       " 'happy',\n",
       " 'happy',\n",
       " 'sad',\n",
       " 'surprised',\n",
       " 'angry',\n",
       " 'sad',\n",
       " 'angry',\n",
       " 'surprised',\n",
       " 'sad',\n",
       " 'sad',\n",
       " 'surprised',\n",
       " 'surprised',\n",
       " 'happy',\n",
       " 'angry',\n",
       " 'sad',\n",
       " 'happy',\n",
       " 'happy',\n",
       " 'happy',\n",
       " 'surprised',\n",
       " 'surprised',\n",
       " 'happy',\n",
       " 'angry',\n",
       " 'happy',\n",
       " 'sad',\n",
       " 'angry',\n",
       " 'sad',\n",
       " 'angry',\n",
       " 'surprised',\n",
       " 'angry',\n",
       " 'happy',\n",
       " 'surprised',\n",
       " 'happy',\n",
       " 'happy',\n",
       " 'happy',\n",
       " 'surprised',\n",
       " 'surprised',\n",
       " 'sad',\n",
       " 'angry',\n",
       " 'sad',\n",
       " 'surprised',\n",
       " 'angry',\n",
       " 'angry',\n",
       " 'sad',\n",
       " 'surprised',\n",
       " 'angry',\n",
       " 'angry',\n",
       " 'happy',\n",
       " 'angry',\n",
       " 'sad',\n",
       " 'happy',\n",
       " 'surprised',\n",
       " 'surprised',\n",
       " 'angry',\n",
       " 'happy',\n",
       " 'happy',\n",
       " 'angry',\n",
       " 'happy',\n",
       " 'surprised',\n",
       " 'angry',\n",
       " 'sad',\n",
       " 'sad',\n",
       " 'happy',\n",
       " 'happy',\n",
       " 'surprised',\n",
       " 'happy',\n",
       " 'happy',\n",
       " 'angry',\n",
       " 'surprised',\n",
       " 'surprised',\n",
       " 'angry',\n",
       " 'happy',\n",
       " 'happy',\n",
       " 'sad',\n",
       " 'angry',\n",
       " 'angry',\n",
       " 'angry',\n",
       " 'happy',\n",
       " 'happy',\n",
       " 'surprised',\n",
       " 'surprised',\n",
       " 'sad',\n",
       " 'happy',\n",
       " 'sad',\n",
       " 'surprised',\n",
       " 'angry',\n",
       " 'angry',\n",
       " 'angry',\n",
       " 'sad',\n",
       " 'sad',\n",
       " 'happy',\n",
       " 'angry',\n",
       " 'sad',\n",
       " 'angry',\n",
       " 'surprised',\n",
       " 'surprised',\n",
       " 'surprised',\n",
       " 'sad',\n",
       " 'happy',\n",
       " 'surprised',\n",
       " 'happy',\n",
       " 'happy',\n",
       " 'happy',\n",
       " 'surprised',\n",
       " 'angry',\n",
       " 'sad',\n",
       " 'sad',\n",
       " 'surprised',\n",
       " 'sad',\n",
       " 'happy',\n",
       " 'angry',\n",
       " 'sad',\n",
       " 'angry',\n",
       " 'angry',\n",
       " 'happy',\n",
       " 'surprised',\n",
       " 'sad',\n",
       " 'angry',\n",
       " 'surprised',\n",
       " 'sad',\n",
       " 'angry',\n",
       " 'sad',\n",
       " 'angry',\n",
       " 'surprised',\n",
       " 'angry',\n",
       " 'happy',\n",
       " 'happy',\n",
       " 'happy',\n",
       " 'surprised',\n",
       " 'happy',\n",
       " 'angry',\n",
       " 'happy',\n",
       " 'happy',\n",
       " 'happy',\n",
       " 'angry',\n",
       " 'happy',\n",
       " 'sad',\n",
       " 'happy',\n",
       " 'angry',\n",
       " 'angry',\n",
       " 'sad',\n",
       " 'happy',\n",
       " 'sad',\n",
       " 'angry',\n",
       " 'sad',\n",
       " 'angry',\n",
       " 'happy',\n",
       " 'happy',\n",
       " 'sad',\n",
       " 'happy',\n",
       " 'happy',\n",
       " 'sad',\n",
       " 'surprised',\n",
       " 'happy',\n",
       " 'surprised',\n",
       " 'surprised',\n",
       " 'sad',\n",
       " 'surprised',\n",
       " 'surprised',\n",
       " 'sad',\n",
       " 'happy',\n",
       " 'surprised',\n",
       " 'happy',\n",
       " 'surprised',\n",
       " 'happy',\n",
       " 'surprised',\n",
       " 'surprised',\n",
       " 'surprised',\n",
       " 'sad',\n",
       " 'surprised',\n",
       " 'happy',\n",
       " 'sad',\n",
       " 'surprised',\n",
       " 'happy',\n",
       " 'sad',\n",
       " 'angry',\n",
       " 'sad',\n",
       " 'angry',\n",
       " 'sad',\n",
       " 'surprised',\n",
       " 'sad',\n",
       " 'sad',\n",
       " 'angry',\n",
       " 'happy',\n",
       " 'sad',\n",
       " 'surprised',\n",
       " 'sad',\n",
       " 'happy',\n",
       " 'happy',\n",
       " 'angry',\n",
       " 'happy',\n",
       " 'sad',\n",
       " 'sad',\n",
       " 'angry',\n",
       " 'surprised',\n",
       " 'happy',\n",
       " 'surprised',\n",
       " 'surprised',\n",
       " 'sad',\n",
       " 'happy',\n",
       " 'sad',\n",
       " 'angry',\n",
       " 'happy',\n",
       " 'angry',\n",
       " 'sad',\n",
       " 'sad',\n",
       " 'surprised',\n",
       " 'angry',\n",
       " 'sad',\n",
       " 'happy',\n",
       " 'happy',\n",
       " 'sad',\n",
       " 'surprised',\n",
       " 'angry',\n",
       " 'happy',\n",
       " 'angry',\n",
       " 'angry',\n",
       " 'angry',\n",
       " 'angry',\n",
       " 'sad',\n",
       " 'happy',\n",
       " 'angry',\n",
       " 'surprised',\n",
       " 'surprised',\n",
       " 'happy',\n",
       " 'sad',\n",
       " 'happy',\n",
       " 'angry',\n",
       " 'happy',\n",
       " 'sad',\n",
       " 'happy',\n",
       " 'sad',\n",
       " 'sad',\n",
       " 'angry',\n",
       " 'angry',\n",
       " 'surprised',\n",
       " 'sad',\n",
       " 'angry',\n",
       " 'happy',\n",
       " 'surprised',\n",
       " 'happy',\n",
       " 'angry',\n",
       " 'angry',\n",
       " 'sad',\n",
       " 'angry',\n",
       " 'angry',\n",
       " 'angry',\n",
       " 'surprised',\n",
       " 'sad',\n",
       " 'happy',\n",
       " 'angry',\n",
       " 'sad',\n",
       " 'sad',\n",
       " 'sad',\n",
       " 'surprised',\n",
       " 'surprised',\n",
       " 'sad',\n",
       " 'sad',\n",
       " 'surprised',\n",
       " 'happy',\n",
       " 'sad',\n",
       " 'happy',\n",
       " 'happy',\n",
       " 'sad',\n",
       " 'happy',\n",
       " 'happy',\n",
       " 'happy',\n",
       " 'angry',\n",
       " 'surprised',\n",
       " 'angry',\n",
       " 'surprised',\n",
       " 'angry',\n",
       " 'angry',\n",
       " 'happy',\n",
       " 'happy',\n",
       " 'sad',\n",
       " 'happy',\n",
       " 'angry',\n",
       " 'surprised',\n",
       " 'angry',\n",
       " 'angry',\n",
       " 'sad',\n",
       " 'happy',\n",
       " 'angry',\n",
       " 'happy',\n",
       " 'happy',\n",
       " 'surprised',\n",
       " 'happy',\n",
       " 'angry',\n",
       " 'surprised',\n",
       " 'sad',\n",
       " 'sad',\n",
       " 'happy',\n",
       " 'sad',\n",
       " 'happy',\n",
       " 'angry',\n",
       " 'sad',\n",
       " 'angry',\n",
       " 'sad',\n",
       " 'angry',\n",
       " 'happy',\n",
       " 'happy',\n",
       " 'surprised',\n",
       " 'happy',\n",
       " 'angry',\n",
       " 'sad',\n",
       " 'surprised',\n",
       " 'surprised',\n",
       " 'surprised',\n",
       " 'angry',\n",
       " 'surprised',\n",
       " 'sad',\n",
       " 'surprised',\n",
       " 'angry',\n",
       " 'angry',\n",
       " 'angry',\n",
       " 'angry',\n",
       " 'surprised',\n",
       " 'sad',\n",
       " 'sad',\n",
       " 'angry',\n",
       " 'sad',\n",
       " 'sad',\n",
       " 'happy',\n",
       " 'sad',\n",
       " 'angry',\n",
       " 'happy',\n",
       " 'happy',\n",
       " 'happy',\n",
       " 'happy',\n",
       " 'sad',\n",
       " 'angry',\n",
       " 'angry',\n",
       " 'happy',\n",
       " ...]"
      ]
     },
     "execution_count": 18,
     "metadata": {},
     "output_type": "execute_result"
    }
   ],
   "source": [
    "remastered_labels"
   ]
  },
  {
   "cell_type": "code",
   "execution_count": 19,
   "id": "f3d69e64-c397-4aad-b13c-9633f60e0cbe",
   "metadata": {},
   "outputs": [
    {
     "data": {
      "text/plain": [
       "0       Allah aşkına bi fırça neden 250 tl neden yani ...\n",
       "1       Muavin bir şey içip içmediğimi sormak için ben...\n",
       "2       Herkese güzel günler öpüyorum sizler tivitır a...\n",
       "3       Ya şu sevgililerin birbirine şifre verme olayı...\n",
       "4       Almanya'da 'yok artık' dedirten olay! Nereye p...\n",
       "                              ...                        \n",
       "4937                           Ben de merak ediyordum....\n",
       "4938                                      Yani şef misin?\n",
       "4939    Monica, menümün arkasında seninle konuşabilir ...\n",
       "4940                             Ben de sohbet ediyordum.\n",
       "4941                      Harika olurdu. Teşekkür ederim.\n",
       "Name: batch, Length: 4142, dtype: object"
      ]
     },
     "execution_count": 19,
     "metadata": {},
     "output_type": "execute_result"
    }
   ],
   "source": [
    "Filtered_data['batch']"
   ]
  },
  {
   "cell_type": "code",
   "execution_count": 20,
   "id": "cca08f4f-2fee-48ad-95ae-8841d937eab4",
   "metadata": {},
   "outputs": [
    {
     "data": {
      "text/html": [
       "<div>\n",
       "<style scoped>\n",
       "    .dataframe tbody tr th:only-of-type {\n",
       "        vertical-align: middle;\n",
       "    }\n",
       "\n",
       "    .dataframe tbody tr th {\n",
       "        vertical-align: top;\n",
       "    }\n",
       "\n",
       "    .dataframe thead th {\n",
       "        text-align: right;\n",
       "    }\n",
       "</style>\n",
       "<table border=\"1\" class=\"dataframe\">\n",
       "  <thead>\n",
       "    <tr style=\"text-align: right;\">\n",
       "      <th></th>\n",
       "      <th>batch</th>\n",
       "      <th>labels</th>\n",
       "    </tr>\n",
       "  </thead>\n",
       "  <tbody>\n",
       "    <tr>\n",
       "      <th>0</th>\n",
       "      <td>Allah aşkına bi fırça neden 250 tl neden yani ...</td>\n",
       "      <td>kızgın</td>\n",
       "    </tr>\n",
       "    <tr>\n",
       "      <th>1</th>\n",
       "      <td>Muavin bir şey içip içmediğimi sormak için ben...</td>\n",
       "      <td>surpriz</td>\n",
       "    </tr>\n",
       "    <tr>\n",
       "      <th>2</th>\n",
       "      <td>Herkese güzel günler öpüyorum sizler tivitır a...</td>\n",
       "      <td>mutlu</td>\n",
       "    </tr>\n",
       "    <tr>\n",
       "      <th>3</th>\n",
       "      <td>Ya şu sevgililerin birbirine şifre verme olayı...</td>\n",
       "      <td>kızgın</td>\n",
       "    </tr>\n",
       "    <tr>\n",
       "      <th>4</th>\n",
       "      <td>Almanya'da 'yok artık' dedirten olay! Nereye p...</td>\n",
       "      <td>surpriz</td>\n",
       "    </tr>\n",
       "    <tr>\n",
       "      <th>...</th>\n",
       "      <td>...</td>\n",
       "      <td>...</td>\n",
       "    </tr>\n",
       "    <tr>\n",
       "      <th>4937</th>\n",
       "      <td>Ben de merak ediyordum....</td>\n",
       "      <td>neutral</td>\n",
       "    </tr>\n",
       "    <tr>\n",
       "      <th>4938</th>\n",
       "      <td>Yani şef misin?</td>\n",
       "      <td>neutral</td>\n",
       "    </tr>\n",
       "    <tr>\n",
       "      <th>4939</th>\n",
       "      <td>Monica, menümün arkasında seninle konuşabilir ...</td>\n",
       "      <td>neutral</td>\n",
       "    </tr>\n",
       "    <tr>\n",
       "      <th>4940</th>\n",
       "      <td>Ben de sohbet ediyordum.</td>\n",
       "      <td>neutral</td>\n",
       "    </tr>\n",
       "    <tr>\n",
       "      <th>4941</th>\n",
       "      <td>Harika olurdu. Teşekkür ederim.</td>\n",
       "      <td>neutral</td>\n",
       "    </tr>\n",
       "  </tbody>\n",
       "</table>\n",
       "<p>4142 rows × 2 columns</p>\n",
       "</div>"
      ],
      "text/plain": [
       "                                                  batch   labels\n",
       "0     Allah aşkına bi fırça neden 250 tl neden yani ...   kızgın\n",
       "1     Muavin bir şey içip içmediğimi sormak için ben...  surpriz\n",
       "2     Herkese güzel günler öpüyorum sizler tivitır a...    mutlu\n",
       "3     Ya şu sevgililerin birbirine şifre verme olayı...   kızgın\n",
       "4     Almanya'da 'yok artık' dedirten olay! Nereye p...  surpriz\n",
       "...                                                 ...      ...\n",
       "4937                         Ben de merak ediyordum....  neutral\n",
       "4938                                    Yani şef misin?  neutral\n",
       "4939  Monica, menümün arkasında seninle konuşabilir ...  neutral\n",
       "4940                           Ben de sohbet ediyordum.  neutral\n",
       "4941                    Harika olurdu. Teşekkür ederim.  neutral\n",
       "\n",
       "[4142 rows x 2 columns]"
      ]
     },
     "execution_count": 20,
     "metadata": {},
     "output_type": "execute_result"
    }
   ],
   "source": [
    "Filtered_data"
   ]
  },
  {
   "cell_type": "code",
   "execution_count": 21,
   "id": "cd6356db-b9ff-4e99-9520-4a0c2d4984df",
   "metadata": {},
   "outputs": [],
   "source": [
    "Last_data=pd.DataFrame()\n",
    "Last_data['batch']=Filtered_data['batch']\n",
    "Last_data['labels']=remastered_labels\n"
   ]
  },
  {
   "cell_type": "code",
   "execution_count": 22,
   "id": "569c7a54-320b-4fd0-bd1b-5a0e72b0315f",
   "metadata": {},
   "outputs": [
    {
     "data": {
      "text/html": [
       "<div>\n",
       "<style scoped>\n",
       "    .dataframe tbody tr th:only-of-type {\n",
       "        vertical-align: middle;\n",
       "    }\n",
       "\n",
       "    .dataframe tbody tr th {\n",
       "        vertical-align: top;\n",
       "    }\n",
       "\n",
       "    .dataframe thead th {\n",
       "        text-align: right;\n",
       "    }\n",
       "</style>\n",
       "<table border=\"1\" class=\"dataframe\">\n",
       "  <thead>\n",
       "    <tr style=\"text-align: right;\">\n",
       "      <th></th>\n",
       "      <th>batch</th>\n",
       "      <th>labels</th>\n",
       "    </tr>\n",
       "  </thead>\n",
       "  <tbody>\n",
       "    <tr>\n",
       "      <th>0</th>\n",
       "      <td>Allah aşkına bi fırça neden 250 tl neden yani ...</td>\n",
       "      <td>angry</td>\n",
       "    </tr>\n",
       "    <tr>\n",
       "      <th>1</th>\n",
       "      <td>Muavin bir şey içip içmediğimi sormak için ben...</td>\n",
       "      <td>surprised</td>\n",
       "    </tr>\n",
       "    <tr>\n",
       "      <th>2</th>\n",
       "      <td>Herkese güzel günler öpüyorum sizler tivitır a...</td>\n",
       "      <td>happy</td>\n",
       "    </tr>\n",
       "    <tr>\n",
       "      <th>3</th>\n",
       "      <td>Ya şu sevgililerin birbirine şifre verme olayı...</td>\n",
       "      <td>angry</td>\n",
       "    </tr>\n",
       "    <tr>\n",
       "      <th>4</th>\n",
       "      <td>Almanya'da 'yok artık' dedirten olay! Nereye p...</td>\n",
       "      <td>surprised</td>\n",
       "    </tr>\n",
       "    <tr>\n",
       "      <th>...</th>\n",
       "      <td>...</td>\n",
       "      <td>...</td>\n",
       "    </tr>\n",
       "    <tr>\n",
       "      <th>4937</th>\n",
       "      <td>Ben de merak ediyordum....</td>\n",
       "      <td>neutral</td>\n",
       "    </tr>\n",
       "    <tr>\n",
       "      <th>4938</th>\n",
       "      <td>Yani şef misin?</td>\n",
       "      <td>neutral</td>\n",
       "    </tr>\n",
       "    <tr>\n",
       "      <th>4939</th>\n",
       "      <td>Monica, menümün arkasında seninle konuşabilir ...</td>\n",
       "      <td>neutral</td>\n",
       "    </tr>\n",
       "    <tr>\n",
       "      <th>4940</th>\n",
       "      <td>Ben de sohbet ediyordum.</td>\n",
       "      <td>neutral</td>\n",
       "    </tr>\n",
       "    <tr>\n",
       "      <th>4941</th>\n",
       "      <td>Harika olurdu. Teşekkür ederim.</td>\n",
       "      <td>neutral</td>\n",
       "    </tr>\n",
       "  </tbody>\n",
       "</table>\n",
       "<p>4142 rows × 2 columns</p>\n",
       "</div>"
      ],
      "text/plain": [
       "                                                  batch     labels\n",
       "0     Allah aşkına bi fırça neden 250 tl neden yani ...      angry\n",
       "1     Muavin bir şey içip içmediğimi sormak için ben...  surprised\n",
       "2     Herkese güzel günler öpüyorum sizler tivitır a...      happy\n",
       "3     Ya şu sevgililerin birbirine şifre verme olayı...      angry\n",
       "4     Almanya'da 'yok artık' dedirten olay! Nereye p...  surprised\n",
       "...                                                 ...        ...\n",
       "4937                         Ben de merak ediyordum....    neutral\n",
       "4938                                    Yani şef misin?    neutral\n",
       "4939  Monica, menümün arkasında seninle konuşabilir ...    neutral\n",
       "4940                           Ben de sohbet ediyordum.    neutral\n",
       "4941                    Harika olurdu. Teşekkür ederim.    neutral\n",
       "\n",
       "[4142 rows x 2 columns]"
      ]
     },
     "execution_count": 22,
     "metadata": {},
     "output_type": "execute_result"
    }
   ],
   "source": [
    "Last_data"
   ]
  },
  {
   "cell_type": "code",
   "execution_count": 23,
   "id": "254bfeb7-2b6d-421b-8ed7-8633452c2765",
   "metadata": {},
   "outputs": [],
   "source": [
    "# metinler küçük harflere dönüştürüldü \n",
    "Last_data['batch']=Last_data['batch'].str.lower()"
   ]
  },
  {
   "cell_type": "code",
   "execution_count": 24,
   "id": "d4956b7a-d9c8-49f9-a9b1-4acb2a0f3f9d",
   "metadata": {},
   "outputs": [
    {
     "data": {
      "text/plain": [
       "<Axes: xlabel='count', ylabel='labels'>"
      ]
     },
     "execution_count": 24,
     "metadata": {},
     "output_type": "execute_result"
    },
    {
     "data": {
      "image/png": "[encoded data removed]",
      "text/plain": [
       "<Figure size 640x480 with 1 Axes>"
      ]
     },
     "metadata": {},
     "output_type": "display_data"
    }
   ],
   "source": [
    "sea.countplot(Last_data['labels'])"
   ]
  },
  {
   "cell_type": "code",
   "execution_count": 25,
   "id": "41d1afae-b6c7-4a48-bf45-12999428fb66",
   "metadata": {},
   "outputs": [],
   "source": [
    "#gereksiz boşluklar kaldırıldı\n",
    "\n",
    "def delete_space(text):\n",
    "    text = str(text)\n",
    "    return ' '.join(text.split())\n",
    "\n",
    "Last_data['batch'] = Last_data['batch'].apply(delete_space)\n"
   ]
  },
  {
   "cell_type": "code",
   "execution_count": 26,
   "id": "8c55d8f8-c57f-4527-9b03-4bc44707f31f",
   "metadata": {},
   "outputs": [
    {
     "data": {
      "text/html": [
       "<div>\n",
       "<style scoped>\n",
       "    .dataframe tbody tr th:only-of-type {\n",
       "        vertical-align: middle;\n",
       "    }\n",
       "\n",
       "    .dataframe tbody tr th {\n",
       "        vertical-align: top;\n",
       "    }\n",
       "\n",
       "    .dataframe thead th {\n",
       "        text-align: right;\n",
       "    }\n",
       "</style>\n",
       "<table border=\"1\" class=\"dataframe\">\n",
       "  <thead>\n",
       "    <tr style=\"text-align: right;\">\n",
       "      <th></th>\n",
       "      <th>batch</th>\n",
       "      <th>labels</th>\n",
       "    </tr>\n",
       "  </thead>\n",
       "  <tbody>\n",
       "    <tr>\n",
       "      <th>0</th>\n",
       "      <td>allah aşkına bi fırça neden 250 tl neden yani ...</td>\n",
       "      <td>angry</td>\n",
       "    </tr>\n",
       "    <tr>\n",
       "      <th>1</th>\n",
       "      <td>muavin bir şey içip içmediğimi sormak için ben...</td>\n",
       "      <td>surprised</td>\n",
       "    </tr>\n",
       "    <tr>\n",
       "      <th>2</th>\n",
       "      <td>herkese güzel günler öpüyorum sizler tivitır a...</td>\n",
       "      <td>happy</td>\n",
       "    </tr>\n",
       "    <tr>\n",
       "      <th>3</th>\n",
       "      <td>ya şu sevgililerin birbirine şifre verme olayı...</td>\n",
       "      <td>angry</td>\n",
       "    </tr>\n",
       "    <tr>\n",
       "      <th>4</th>\n",
       "      <td>almanya'da 'yok artık' dedirten olay! nereye p...</td>\n",
       "      <td>surprised</td>\n",
       "    </tr>\n",
       "    <tr>\n",
       "      <th>...</th>\n",
       "      <td>...</td>\n",
       "      <td>...</td>\n",
       "    </tr>\n",
       "    <tr>\n",
       "      <th>4937</th>\n",
       "      <td>ben de merak ediyordum....</td>\n",
       "      <td>neutral</td>\n",
       "    </tr>\n",
       "    <tr>\n",
       "      <th>4938</th>\n",
       "      <td>yani şef misin?</td>\n",
       "      <td>neutral</td>\n",
       "    </tr>\n",
       "    <tr>\n",
       "      <th>4939</th>\n",
       "      <td>monica, menümün arkasında seninle konuşabilir ...</td>\n",
       "      <td>neutral</td>\n",
       "    </tr>\n",
       "    <tr>\n",
       "      <th>4940</th>\n",
       "      <td>ben de sohbet ediyordum.</td>\n",
       "      <td>neutral</td>\n",
       "    </tr>\n",
       "    <tr>\n",
       "      <th>4941</th>\n",
       "      <td>harika olurdu. teşekkür ederim.</td>\n",
       "      <td>neutral</td>\n",
       "    </tr>\n",
       "  </tbody>\n",
       "</table>\n",
       "<p>4142 rows × 2 columns</p>\n",
       "</div>"
      ],
      "text/plain": [
       "                                                  batch     labels\n",
       "0     allah aşkına bi fırça neden 250 tl neden yani ...      angry\n",
       "1     muavin bir şey içip içmediğimi sormak için ben...  surprised\n",
       "2     herkese güzel günler öpüyorum sizler tivitır a...      happy\n",
       "3     ya şu sevgililerin birbirine şifre verme olayı...      angry\n",
       "4     almanya'da 'yok artık' dedirten olay! nereye p...  surprised\n",
       "...                                                 ...        ...\n",
       "4937                         ben de merak ediyordum....    neutral\n",
       "4938                                    yani şef misin?    neutral\n",
       "4939  monica, menümün arkasında seninle konuşabilir ...    neutral\n",
       "4940                           ben de sohbet ediyordum.    neutral\n",
       "4941                    harika olurdu. teşekkür ederim.    neutral\n",
       "\n",
       "[4142 rows x 2 columns]"
      ]
     },
     "execution_count": 26,
     "metadata": {},
     "output_type": "execute_result"
    }
   ],
   "source": [
    "Last_data"
   ]
  },
  {
   "cell_type": "code",
   "execution_count": 27,
   "id": "93f63aaa-9da2-4e3c-ac4a-c0a77465f52f",
   "metadata": {},
   "outputs": [],
   "source": [
    "from sklearn.preprocessing import OneHotEncoder\n",
    "enc = OneHotEncoder()\n",
    "one_hot_labels = enc.fit_transform(Last_data[['labels']])"
   ]
  },
  {
   "cell_type": "code",
   "execution_count": 28,
   "id": "3b98d1f7-41bb-466f-b1a0-a0738d442ce5",
   "metadata": {},
   "outputs": [],
   "source": [
    "import numpy as np"
   ]
  },
  {
   "cell_type": "code",
   "execution_count": 29,
   "id": "f633adc0-0b21-4310-8953-654bd9bddc1c",
   "metadata": {},
   "outputs": [],
   "source": [
    "one_hot_labels=one_hot_labels.toarray()"
   ]
  },
  {
   "cell_type": "code",
   "execution_count": 30,
   "id": "37c9a932-6393-410d-abfc-7d243112b52e",
   "metadata": {},
   "outputs": [
    {
     "data": {
      "text/plain": [
       "array([[1., 0., 0., 0., 0.],\n",
       "       [0., 0., 0., 0., 1.],\n",
       "       [0., 1., 0., 0., 0.],\n",
       "       ...,\n",
       "       [0., 0., 1., 0., 0.],\n",
       "       [0., 0., 1., 0., 0.],\n",
       "       [0., 0., 1., 0., 0.]])"
      ]
     },
     "execution_count": 30,
     "metadata": {},
     "output_type": "execute_result"
    }
   ],
   "source": [
    "one_hot_labels"
   ]
  },
  {
   "cell_type": "code",
   "execution_count": 31,
   "id": "29d0a3d8-08a7-44b2-b58a-e45e3cda332e",
   "metadata": {},
   "outputs": [],
   "source": [
    "from nltk.corpus import stopwords\n",
    "stop_words = set(stopwords.words('turkish'))"
   ]
  },
  {
   "cell_type": "code",
   "execution_count": 32,
   "id": "f6c477a5-47ca-4564-a716-7cf15239e9c1",
   "metadata": {
    "scrolled": true
   },
   "outputs": [
    {
     "data": {
      "text/plain": [
       "{'acaba',\n",
       " 'ama',\n",
       " 'aslında',\n",
       " 'az',\n",
       " 'bazı',\n",
       " 'belki',\n",
       " 'biri',\n",
       " 'birkaç',\n",
       " 'birşey',\n",
       " 'biz',\n",
       " 'bu',\n",
       " 'da',\n",
       " 'daha',\n",
       " 'de',\n",
       " 'defa',\n",
       " 'diye',\n",
       " 'en',\n",
       " 'eğer',\n",
       " 'gibi',\n",
       " 'hem',\n",
       " 'hep',\n",
       " 'hepsi',\n",
       " 'her',\n",
       " 'hiç',\n",
       " 'ile',\n",
       " 'ise',\n",
       " 'için',\n",
       " 'kez',\n",
       " 'ki',\n",
       " 'kim',\n",
       " 'mu',\n",
       " 'mü',\n",
       " 'mı',\n",
       " 'nasıl',\n",
       " 'ne',\n",
       " 'neden',\n",
       " 'nerde',\n",
       " 'nerede',\n",
       " 'nereye',\n",
       " 'niye',\n",
       " 'niçin',\n",
       " 'o',\n",
       " 'sanki',\n",
       " 'siz',\n",
       " 'tüm',\n",
       " 've',\n",
       " 'veya',\n",
       " 'ya',\n",
       " 'yani',\n",
       " 'çok',\n",
       " 'çünkü',\n",
       " 'şey',\n",
       " 'şu'}"
      ]
     },
     "execution_count": 32,
     "metadata": {},
     "output_type": "execute_result"
    }
   ],
   "source": [
    "stop_words"
   ]
  },
  {
   "cell_type": "code",
   "execution_count": 33,
   "id": "562ec363-1c3e-40b3-8afc-87fc96ed0f5b",
   "metadata": {},
   "outputs": [
    {
     "name": "stderr",
     "output_type": "stream",
     "text": [
      "[nltk_data] Downloading package punkt to\n",
      "[nltk_data]     C:\\Users\\levent\\AppData\\Roaming\\nltk_data...\n",
      "[nltk_data]   Package punkt is already up-to-date!\n",
      "[nltk_data] Downloading package punkt_tab to\n",
      "[nltk_data]     C:\\Users\\levent\\AppData\\Roaming\\nltk_data...\n",
      "[nltk_data]   Package punkt_tab is already up-to-date!\n"
     ]
    },
    {
     "data": {
      "text/plain": [
       "True"
      ]
     },
     "execution_count": 33,
     "metadata": {},
     "output_type": "execute_result"
    }
   ],
   "source": [
    "import nltk\n",
    "nltk.download('punkt')\n",
    "nltk.download('punkt_tab')"
   ]
  },
  {
   "cell_type": "code",
   "execution_count": 34,
   "id": "4d6200f2-0b86-46a0-a9b8-876250538b04",
   "metadata": {},
   "outputs": [],
   "source": [
    "from nltk.tokenize import word_tokenize\n",
    "def remove_stopwords(text):\n",
    "    words = word_tokenize(text.lower())\n",
    "    filtered_words = [word for word in words if word not in stop_words]\n",
    "    \n",
    "    return ' '.join(filtered_words)"
   ]
  },
  {
   "cell_type": "code",
   "execution_count": 35,
   "id": "c42d10be-82bd-4225-8847-36710d5edc39",
   "metadata": {},
   "outputs": [],
   "source": [
    "r_stopwords = Last_data['batch'].apply(remove_stopwords)"
   ]
  },
  {
   "cell_type": "code",
   "execution_count": 36,
   "id": "2fe7ef0c-a724-4114-9441-6d3b77f8c1fc",
   "metadata": {},
   "outputs": [
    {
     "data": {
      "text/plain": [
       "0       allah aşkına bi fırça 250 tl işin sinir bozucu...\n",
       "1       muavin bir içip içmediğimi sormak beni uykumda...\n",
       "2       herkese güzel günler öpüyorum sizler tivitır a...\n",
       "3       sevgililerin birbirine şifre verme olayına sin...\n",
       "4       almanya'da 'yok artık ' dedirten olay ! park e...\n",
       "                              ...                        \n",
       "4937                             ben merak ediyordum ....\n",
       "4938                                          şef misin ?\n",
       "4939    monica , menümün arkasında seninle konuşabilir...\n",
       "4940                               ben sohbet ediyordum .\n",
       "4941                    harika olurdu . teşekkür ederim .\n",
       "Name: batch, Length: 4142, dtype: object"
      ]
     },
     "execution_count": 36,
     "metadata": {},
     "output_type": "execute_result"
    }
   ],
   "source": [
    "r_stopwords"
   ]
  },
  {
   "cell_type": "code",
   "execution_count": 37,
   "id": "283a4b59-5770-4e0e-9881-8198cec04f96",
   "metadata": {},
   "outputs": [],
   "source": [
    "from zemberek.morphology import TurkishMorphology"
   ]
  },
  {
   "cell_type": "code",
   "execution_count": 38,
   "id": "eee150f0-8b55-47b6-a888-9f15f8395164",
   "metadata": {},
   "outputs": [
    {
     "name": "stdout",
     "output_type": "stream",
     "text": [
      "2025-01-14 19:37:14,000 - zemberek.morphology.turkish_morphology - INFO\n",
      "Msg: TurkishMorphology instance initialized in 6.910259962081909\n",
      "\n"
     ]
    }
   ],
   "source": [
    "morphology = TurkishMorphology.create_with_defaults()"
   ]
  },
  {
   "cell_type": "code",
   "execution_count": 39,
   "id": "3ddd09db-76a5-45c6-a816-b650fdc6bcea",
   "metadata": {},
   "outputs": [],
   "source": [
    "#kelimeler token'lerine ayrıldı\n",
    "\n",
    "def tokanize(text):\n",
    "    words = text.split()\n",
    "    stems = []\n",
    "    for word in words:\n",
    "        analysis_results = morphology.analyze(word)\n",
    "        if analysis_results:\n",
    "            for analysis in analysis_results:\n",
    "                if hasattr(analysis, \"get_stem\"):\n",
    "                    stems.append(analysis.get_stem())\n",
    "                    break  \n",
    "    return stems\n",
    "word_origins=r_stopwords.apply(tokanize)"
   ]
  },
  {
   "cell_type": "code",
   "execution_count": 40,
   "id": "f381df72-1965-4e38-8e1c-79e1f52a509b",
   "metadata": {},
   "outputs": [
    {
     "data": {
      "text/plain": [
       "0       [allah, aşk, fırça, 250, tl, iş, sinir, boz, y...\n",
       "1       [muavin, bir, iç, iç, sor, ben, uyku, uyan, ha...\n",
       "2                   [herkes, güzel, günle, öp, siz, alem]\n",
       "3       [sevgili, birbiri, şifre, ver, olay, sinir, ol...\n",
       "4       [almanya, artık, dedir, olay, !, park, et, unu...\n",
       "                              ...                        \n",
       "4937                                     [ben, merak, ed]\n",
       "4938                                         [şef, mi, ?]\n",
       "4939    [monica, ,, menü, arka, sen, konuş, mi, lütfen...\n",
       "4940                                 [ben, sohbet, ed, .]\n",
       "4941                     [harika, ol, ., teşekkür, ed, .]\n",
       "Name: batch, Length: 4142, dtype: object"
      ]
     },
     "execution_count": 40,
     "metadata": {},
     "output_type": "execute_result"
    }
   ],
   "source": [
    "word_origins"
   ]
  },
  {
   "cell_type": "code",
   "execution_count": 41,
   "id": "1fdee9a6-d50d-4546-94e1-48ce33afe4d6",
   "metadata": {},
   "outputs": [],
   "source": [
    "from tensorflow.keras.preprocessing.text import Tokenizer\n",
    "from tensorflow.keras.preprocessing.sequence import pad_sequences\n",
    "\n",
    "processed_texts = [' '.join(tokens) for tokens in word_origins]\n",
    "tokenizer = Tokenizer()\n",
    "tokenizer.fit_on_texts(processed_texts)\n",
    "sequences = tokenizer.texts_to_sequences(processed_texts)"
   ]
  },
  {
   "cell_type": "code",
   "execution_count": 42,
   "id": "0ffdef10-3439-4d78-81a5-ab3b9cc38567",
   "metadata": {},
   "outputs": [],
   "source": [
    "max_sequence_length = 64\n",
    "padded_sequences = pad_sequences(sequences, maxlen=max_sequence_length, padding='post')"
   ]
  },
  {
   "cell_type": "code",
   "execution_count": 43,
   "id": "1833fb6d-2ff5-41b9-b8c6-26fc3eddf037",
   "metadata": {},
   "outputs": [
    {
     "data": {
      "text/plain": [
       "array([[  77,   90, 1106, ...,    0,    0,    0],\n",
       "       [2090,    2,   71, ...,    0,    0,    0],\n",
       "       [  57,   10,  468, ...,    0,    0,    0],\n",
       "       ...,\n",
       "       [ 567, 3926,  389, ...,    0,    0,    0],\n",
       "       [   3,  569,    6, ...,    0,    0,    0],\n",
       "       [  48,    1,   63, ...,    0,    0,    0]])"
      ]
     },
     "execution_count": 43,
     "metadata": {},
     "output_type": "execute_result"
    }
   ],
   "source": [
    "padded_sequences"
   ]
  },
  {
   "cell_type": "code",
   "execution_count": 44,
   "id": "4ca1302c-a278-4226-b92c-2656bbd90fc1",
   "metadata": {},
   "outputs": [],
   "source": [
    "from sklearn.model_selection import train_test_split\n",
    "x_train, x_temp, y_train, y_temp = train_test_split(padded_sequences, one_hot_labels, test_size=0.3, random_state=42 )"
   ]
  },
  {
   "cell_type": "code",
   "execution_count": 45,
   "id": "680db77a-232e-44d7-866f-09e823d337a4",
   "metadata": {},
   "outputs": [
    {
     "data": {
      "text/plain": [
       "(2899, 64)"
      ]
     },
     "execution_count": 45,
     "metadata": {},
     "output_type": "execute_result"
    }
   ],
   "source": [
    "x_train.shape"
   ]
  },
  {
   "cell_type": "code",
   "execution_count": 46,
   "id": "318c2357-d0a7-4f4a-9fcb-59a0cf8ca5a5",
   "metadata": {},
   "outputs": [],
   "source": [
    "x_test,x_val,y_test,y_val = train_test_split(x_temp, y_temp, test_size=0.5, random_state=42 )"
   ]
  },
  {
   "cell_type": "code",
   "execution_count": 47,
   "id": "f4a48470-8b4a-48ea-9233-e0c499b60ace",
   "metadata": {},
   "outputs": [
    {
     "data": {
      "text/plain": [
       "(621, 64)"
      ]
     },
     "execution_count": 47,
     "metadata": {},
     "output_type": "execute_result"
    }
   ],
   "source": [
    "x_test.shape"
   ]
  },
  {
   "cell_type": "code",
   "execution_count": 48,
   "id": "714a6fc1-785b-4e74-8fb5-2538321fcc2f",
   "metadata": {},
   "outputs": [],
   "source": [
    "vocab_size = len(tokenizer.word_index) + 1 # benzersiz kelime sayısı"
   ]
  },
  {
   "cell_type": "code",
   "execution_count": 49,
   "id": "41ec969c-49ae-435c-908e-1918cc143fac",
   "metadata": {},
   "outputs": [
    {
     "data": {
      "text/plain": [
       "3927"
      ]
     },
     "execution_count": 49,
     "metadata": {},
     "output_type": "execute_result"
    }
   ],
   "source": [
    "vocab_size"
   ]
  },
  {
   "cell_type": "code",
   "execution_count": 62,
   "id": "128c548b-4bd6-440f-899f-b336a0a35c5e",
   "metadata": {},
   "outputs": [
    {
     "name": "stdout",
     "output_type": "stream",
     "text": [
      "Model: \"sequential_1\"\n",
      "_________________________________________________________________\n",
      " Layer (type)                Output Shape              Param #   \n",
      "=================================================================\n",
      " embedding_1 (Embedding)     (None, 64, 128)           502656    \n",
      "                                                                 \n",
      " lstm_1 (LSTM)               (None, 64, 128)           131584    \n",
      "                                                                 \n",
      " batch_normalization_1 (Batc  (None, 64, 128)          512       \n",
      " hNormalization)                                                 \n",
      "                                                                 \n",
      " max_pooling1d_1 (MaxPooling  (None, 32, 128)          0         \n",
      " 1D)                                                             \n",
      "                                                                 \n",
      " dropout_2 (Dropout)         (None, 32, 128)           0         \n",
      "                                                                 \n",
      " flatten_1 (Flatten)         (None, 4096)              0         \n",
      "                                                                 \n",
      " dense_2 (Dense)             (None, 64)                262208    \n",
      "                                                                 \n",
      " dropout_3 (Dropout)         (None, 64)                0         \n",
      "                                                                 \n",
      " dense_3 (Dense)             (None, 5)                 325       \n",
      "                                                                 \n",
      "=================================================================\n",
      "Total params: 897,285\n",
      "Trainable params: 897,029\n",
      "Non-trainable params: 256\n",
      "_________________________________________________________________\n"
     ]
    }
   ],
   "source": [
    "from tensorflow.keras.models import Sequential\n",
    "from tensorflow.keras.layers import Embedding, LSTM, Dense, Dropout,BatchNormalization,Flatten, MaxPooling1D\n",
    "from tensorflow.keras.regularizers import l2\n",
    "\n",
    "model = Sequential([\n",
    "    Embedding(input_dim=vocab_size, output_dim=128, input_length=max_sequence_length),\n",
    "    LSTM(128, return_sequences=True, kernel_regularizer=l2(0.0001)),\n",
    "    BatchNormalization(),\n",
    "    MaxPooling1D(2),\n",
    "    Dropout(0.5),\n",
    " \n",
    "    Flatten(), \n",
    "    Dense(64, activation='relu'),\n",
    "    Dropout(0.5),\n",
    "    Dense(5, activation='softmax')\n",
    "])\n",
    "\n",
    "model.compile(optimizer='adam', loss='categorical_crossentropy', metrics=['accuracy'])\n",
    "model.summary()\n"
   ]
  },
  {
   "cell_type": "code",
   "execution_count": 63,
   "id": "edeb3a65-bac1-4ac8-9d1a-6552b247eb4a",
   "metadata": {
    "scrolled": true
   },
   "outputs": [
    {
     "name": "stdout",
     "output_type": "stream",
     "text": [
      "Epoch 1/10\n",
      "91/91 [==============================] - 3s 15ms/step - loss: 1.4000 - accuracy: 0.3898 - val_loss: 1.5222 - val_accuracy: 0.3023\n",
      "Epoch 2/10\n",
      "91/91 [==============================] - 1s 11ms/step - loss: 0.3717 - accuracy: 0.8872 - val_loss: 1.2772 - val_accuracy: 0.4936\n",
      "Epoch 3/10\n",
      "91/91 [==============================] - 1s 10ms/step - loss: 0.1303 - accuracy: 0.9683 - val_loss: 0.9529 - val_accuracy: 0.7203\n",
      "Epoch 4/10\n",
      "91/91 [==============================] - 1s 10ms/step - loss: 0.0665 - accuracy: 0.9845 - val_loss: 0.6214 - val_accuracy: 0.7926\n",
      "Epoch 5/10\n",
      "91/91 [==============================] - 1s 10ms/step - loss: 0.0445 - accuracy: 0.9900 - val_loss: 0.2778 - val_accuracy: 0.9228\n",
      "Epoch 6/10\n",
      "91/91 [==============================] - 1s 10ms/step - loss: 0.0512 - accuracy: 0.9872 - val_loss: 0.4249 - val_accuracy: 0.8666\n",
      "Epoch 7/10\n",
      "91/91 [==============================] - 1s 10ms/step - loss: 0.0551 - accuracy: 0.9865 - val_loss: 0.6224 - val_accuracy: 0.8119\n",
      "Epoch 8/10\n",
      "91/91 [==============================] - 1s 11ms/step - loss: 0.0490 - accuracy: 0.9914 - val_loss: 0.8135 - val_accuracy: 0.7814\n",
      "Epoch 9/10\n",
      "91/91 [==============================] - 1s 10ms/step - loss: 0.0422 - accuracy: 0.9890 - val_loss: 0.5176 - val_accuracy: 0.9035\n",
      "Epoch 10/10\n",
      "91/91 [==============================] - 1s 10ms/step - loss: 0.0324 - accuracy: 0.9948 - val_loss: 0.5958 - val_accuracy: 0.8907\n"
     ]
    }
   ],
   "source": [
    "history = model.fit(\n",
    "    x_train, y_train,\n",
    "    validation_data=(x_val, y_val),\n",
    "    epochs=10,  \n",
    "    batch_size=32\n",
    ")"
   ]
  },
  {
   "cell_type": "code",
   "execution_count": 64,
   "id": "ed6f9c71-7204-47b6-8293-2e56094e9da7",
   "metadata": {},
   "outputs": [
    {
     "name": "stdout",
     "output_type": "stream",
     "text": [
      "20/20 [==============================] - 0s 8ms/step - loss: 0.4860 - accuracy: 0.9098\n"
     ]
    },
    {
     "data": {
      "text/plain": [
       "[0.4860323965549469, 0.9098228812217712]"
      ]
     },
     "execution_count": 64,
     "metadata": {},
     "output_type": "execute_result"
    }
   ],
   "source": [
    "model.evaluate(x_test, y_test)"
   ]
  },
  {
   "cell_type": "code",
   "execution_count": 74,
   "id": "b860f8b1-d126-47a0-bcdd-af49be1d720c",
   "metadata": {},
   "outputs": [],
   "source": [
    "model.save(\"NLP_model90.h5\")"
   ]
  },
  {
   "cell_type": "code",
   "execution_count": 65,
   "id": "556344bb-cdb1-43e3-9e83-b3bdb74aa957",
   "metadata": {},
   "outputs": [],
   "source": [
    "def plot_training_history(history):\n",
    "    \n",
    "    plt.figure(figsize=(14, 5))\n",
    "\n",
    "    plt.subplot(1, 2, 1)\n",
    "    plt.plot(history.history['accuracy'], label='Train Accuracy')\n",
    "    plt.plot(history.history['val_accuracy'], label='Validation Accuracy')\n",
    "    plt.title('Model Accuracy')\n",
    "    plt.xlabel('Epoch')\n",
    "    plt.ylabel('Accuracy')\n",
    "    plt.legend()\n",
    "    plt.grid()\n",
    "\n",
    "    plt.subplot(1, 2, 2)\n",
    "    plt.plot(history.history['loss'], label='Train Loss')\n",
    "    plt.plot(history.history['val_loss'], label='Validation Loss')\n",
    "    plt.title('Model Loss')\n",
    "    plt.xlabel('Epoch')\n",
    "    plt.ylabel('Loss')\n",
    "    plt.legend()\n",
    "    plt.grid()\n",
    "\n",
    "    plt.tight_layout()\n",
    "    plt.show()"
   ]
  },
  {
   "cell_type": "code",
   "execution_count": 66,
   "id": "09b9a522-f049-42c8-8976-c9b6906c7ce9",
   "metadata": {},
   "outputs": [],
   "source": [
    "import matplotlib.pyplot as plt"
   ]
  },
  {
   "cell_type": "code",
   "execution_count": 67,
   "id": "24d7174d-8315-4a32-a0c4-88e3d273b443",
   "metadata": {},
   "outputs": [
    {
     "data": {
      "image/png": "[encoded data removed]",
      "text/plain": [
       "<Figure size 1400x500 with 2 Axes>"
      ]
     },
     "metadata": {},
     "output_type": "display_data"
    }
   ],
   "source": [
    "plot_training_history(history)"
   ]
  },
  {
   "cell_type": "code",
   "execution_count": 68,
   "id": "ece206b7-7bb2-4ef0-b2f2-09c25c3165b9",
   "metadata": {},
   "outputs": [
    {
     "name": "stdout",
     "output_type": "stream",
     "text": [
      "20/20 [==============================] - 0s 8ms/step\n"
     ]
    }
   ],
   "source": [
    "beklenen_sonuclar = model.predict(x_test)"
   ]
  },
  {
   "cell_type": "code",
   "execution_count": 69,
   "id": "36e74251-e622-4008-8f5d-7c78fc684bff",
   "metadata": {},
   "outputs": [],
   "source": [
    "gerçek_sonuçlar = y_test"
   ]
  },
  {
   "cell_type": "code",
   "execution_count": 70,
   "id": "85d5a054-d3f7-4399-87e9-ee8fb4fe1b4d",
   "metadata": {},
   "outputs": [],
   "source": [
    "sonuc_classes = np.argmax(beklenen_sonuclar, axis=1)"
   ]
  },
  {
   "cell_type": "code",
   "execution_count": 71,
   "id": "2049d234-e91d-4aaf-a4ab-a5ca613da308",
   "metadata": {},
   "outputs": [
    {
     "data": {
      "text/plain": [
       "array([[0., 0., 0., 0., 1.],\n",
       "       [0., 0., 1., 0., 0.],\n",
       "       [0., 0., 0., 1., 0.],\n",
       "       ...,\n",
       "       [0., 1., 0., 0., 0.],\n",
       "       [0., 0., 0., 1., 0.],\n",
       "       [1., 0., 0., 0., 0.]])"
      ]
     },
     "execution_count": 71,
     "metadata": {},
     "output_type": "execute_result"
    }
   ],
   "source": [
    "y_test"
   ]
  },
  {
   "cell_type": "code",
   "execution_count": 72,
   "id": "8e772729-2c28-4c8b-bdca-1993749cabc4",
   "metadata": {
    "scrolled": true
   },
   "outputs": [
    {
     "data": {
      "text/plain": [
       "array([4, 2, 3, 0, 4, 1, 3, 0, 4, 4, 1, 4, 1, 4, 4, 4, 1, 2, 2, 3, 4, 1,\n",
       "       4, 2, 2, 4, 3, 2, 0, 2, 1, 3, 3, 1, 3, 1, 1, 4, 1, 0, 1, 3, 1, 4,\n",
       "       2, 4, 0, 3, 1, 3, 3, 1, 3, 0, 0, 2, 3, 4, 4, 1, 0, 0, 2, 3, 1, 4,\n",
       "       4, 2, 3, 1, 0, 2, 3, 0, 2, 2, 0, 0, 3, 2, 2, 3, 4, 2, 3, 1, 3, 4,\n",
       "       0, 2, 0, 3, 2, 3, 4, 2, 1, 4, 1, 2, 2, 3, 2, 3, 1, 1, 2, 0, 0, 1,\n",
       "       3, 2, 3, 1, 0, 1, 0, 3, 2, 2, 4, 1, 2, 3, 1, 2, 3, 2, 2, 3, 2, 2,\n",
       "       3, 2, 1, 2, 1, 0, 1, 0, 4, 0, 0, 3, 1, 0, 2, 2, 4, 2, 0, 3, 4, 4,\n",
       "       1, 3, 2, 0, 2, 4, 2, 4, 1, 2, 0, 4, 2, 3, 0, 3, 3, 1, 0, 2, 1, 2,\n",
       "       2, 3, 0, 2, 0, 3, 2, 1, 1, 2, 1, 4, 3, 3, 2, 4, 4, 4, 1, 0, 2, 0,\n",
       "       1, 4, 0, 3, 3, 2, 4, 0, 4, 4, 2, 3, 3, 4, 4, 3, 2, 1, 0, 2, 1, 4,\n",
       "       3, 2, 2, 1, 1, 3, 1, 2, 2, 2, 1, 1, 4, 0, 3, 2, 2, 2, 2, 2, 0, 0,\n",
       "       1, 3, 3, 2, 3, 1, 1, 0, 0, 4, 4, 3, 0, 2, 3, 2, 3, 1, 3, 3, 1, 1,\n",
       "       1, 2, 4, 4, 2, 1, 4, 2, 4, 2, 0, 3, 3, 4, 2, 4, 3, 0, 1, 1, 1, 0,\n",
       "       3, 0, 4, 4, 2, 0, 0, 2, 4, 1, 4, 1, 3, 3, 3, 1, 4, 4, 3, 2, 2, 3,\n",
       "       1, 2, 3, 3, 0, 1, 4, 1, 0, 3, 3, 1, 3, 1, 2, 3, 4, 3, 0, 0, 1, 1,\n",
       "       2, 1, 4, 0, 4, 4, 0, 4, 0, 2, 4, 4, 2, 1, 0, 2, 0, 2, 1, 1, 1, 4,\n",
       "       1, 2, 1, 0, 2, 4, 1, 3, 4, 4, 4, 0, 4, 3, 2, 2, 3, 4, 4, 4, 2, 4,\n",
       "       3, 3, 4, 1, 0, 4, 2, 3, 2, 4, 2, 4, 4, 0, 2, 3, 2, 1, 1, 1, 0, 2,\n",
       "       2, 0, 2, 2, 0, 0, 1, 3, 0, 3, 0, 2, 3, 2, 2, 4, 0, 2, 3, 2, 1, 3,\n",
       "       1, 3, 1, 1, 1, 4, 2, 1, 4, 4, 0, 4, 2, 1, 0, 2, 1, 0, 4, 3, 4, 3,\n",
       "       1, 2, 4, 2, 3, 1, 2, 4, 1, 2, 4, 3, 4, 2, 1, 4, 4, 4, 2, 2, 3, 1,\n",
       "       4, 4, 1, 3, 1, 2, 1, 2, 0, 3, 2, 2, 1, 4, 0, 0, 1, 1, 3, 0, 3, 4,\n",
       "       4, 3, 4, 1, 1, 4, 3, 1, 4, 1, 4, 4, 2, 1, 3, 4, 0, 2, 3, 4, 0, 1,\n",
       "       2, 4, 2, 3, 3, 4, 2, 4, 4, 4, 3, 0, 0, 4, 0, 2, 3, 0, 2, 2, 4, 2,\n",
       "       1, 2, 3, 2, 0, 4, 1, 4, 4, 4, 3, 0, 1, 3, 3, 4, 1, 3, 0, 1, 4, 0,\n",
       "       2, 2, 1, 2, 3, 4, 0, 4, 1, 2, 4, 4, 2, 2, 4, 0, 4, 4, 0, 0, 1, 4,\n",
       "       4, 2, 4, 0, 4, 1, 0, 2, 0, 1, 4, 3, 1, 1, 0, 2, 0, 3, 4, 0, 4, 2,\n",
       "       3, 0, 3, 4, 4, 1, 1, 4, 1, 1, 3, 3, 1, 4, 2, 3, 1, 2, 1, 2, 1, 0,\n",
       "       3, 1, 1, 3, 0], dtype=int64)"
      ]
     },
     "execution_count": 72,
     "metadata": {},
     "output_type": "execute_result"
    }
   ],
   "source": [
    "sonuc_classes"
   ]
  },
  {
   "cell_type": "code",
   "execution_count": 73,
   "id": "ea9ced0f-8bb4-4b6d-9242-075781f57f59",
   "metadata": {},
   "outputs": [
    {
     "data": {
      "image/png": "[encoded data removed]",
      "text/plain": [
       "<Figure size 900x700 with 1 Axes>"
      ]
     },
     "metadata": {},
     "output_type": "display_data"
    }
   ],
   "source": [
    "from sklearn.metrics import confusion_matrix,ConfusionMatrixDisplay\n",
    "import seaborn as sns\n",
    "\n",
    "y_true = np.argmax(gerçek_sonuçlar, axis=1) \n",
    "y_pred = sonuc_classes \n",
    "\n",
    "cm = confusion_matrix(y_true, y_pred)\n",
    "\n",
    "class_labels = ['angry','happy','neutral','surprised','sad']\n",
    "cm_df = pd.DataFrame(cm, index=class_labels, columns=class_labels)\n",
    "\n",
    "cm_percentage = cm_df.div(cm_df.sum(axis=1), axis=0).multiply(100).round(2)\n",
    "\n",
    "plt.figure(figsize=(9, 7))\n",
    "sns.heatmap(cm_percentage, annot=True, fmt=\".2f\", cmap=\"Blues\", cbar=False)\n",
    "plt.xlabel(\"Predicted Labels\")\n",
    "plt.ylabel(\"True Labels\")\n",
    "plt.title(\"Confusion Matrix (%)\")\n",
    "plt.show()"
   ]
  },
  {
   "cell_type": "code",
   "execution_count": 67,
   "id": "bd435185-c8b0-4e1c-9d29-7b24cfdcfe80",
   "metadata": {},
   "outputs": [
    {
     "name": "stdout",
     "output_type": "stream",
     "text": [
      "y_true: [4 1 3 0 1 1 3 0 4 4]\n",
      "y_pred: [4 1 3 0 1 1 3 0 4 4]\n"
     ]
    }
   ],
   "source": [
    "print(\"y_true:\", y_true[:10])  # İlk 10 gerçek sınıf\n",
    "print(\"y_pred:\", y_pred[:10]) "
   ]
  },
  {
   "cell_type": "code",
   "execution_count": 151,
   "id": "24458ec7-2220-4ccc-ba93-460ec3be2f77",
   "metadata": {},
   "outputs": [],
   "source": [
    "test_file=\"Aman Allahım! Nasıl olur bu?\"\n",
    "test_lower = test_file.lower()"
   ]
  },
  {
   "cell_type": "code",
   "execution_count": 152,
   "id": "7ca546d7-151b-406f-9557-56b333dd72a8",
   "metadata": {},
   "outputs": [
    {
     "data": {
      "text/plain": [
       "'aman allahım! nasıl olur bu?'"
      ]
     },
     "execution_count": 152,
     "metadata": {},
     "output_type": "execute_result"
    }
   ],
   "source": [
    "test_lower"
   ]
  },
  {
   "cell_type": "code",
   "execution_count": 153,
   "id": "72167e07-ff5c-4084-85b0-134df0024c81",
   "metadata": {},
   "outputs": [],
   "source": [
    "without_spase=' '.join(test_lower.split())"
   ]
  },
  {
   "cell_type": "code",
   "execution_count": 154,
   "id": "039e21a0-7039-41ea-83fb-bf074a0c063d",
   "metadata": {},
   "outputs": [
    {
     "data": {
      "text/plain": [
       "'aman allahım! nasıl olur bu?'"
      ]
     },
     "execution_count": 154,
     "metadata": {},
     "output_type": "execute_result"
    }
   ],
   "source": [
    "without_spase"
   ]
  },
  {
   "cell_type": "code",
   "execution_count": 155,
   "id": "f306ede7-0c39-442f-910d-22b6cfc90e0a",
   "metadata": {
    "scrolled": true
   },
   "outputs": [
    {
     "data": {
      "text/plain": [
       "{'acaba',\n",
       " 'ama',\n",
       " 'aslında',\n",
       " 'az',\n",
       " 'bazı',\n",
       " 'belki',\n",
       " 'biri',\n",
       " 'birkaç',\n",
       " 'birşey',\n",
       " 'biz',\n",
       " 'bu',\n",
       " 'da',\n",
       " 'daha',\n",
       " 'de',\n",
       " 'defa',\n",
       " 'diye',\n",
       " 'en',\n",
       " 'eğer',\n",
       " 'gibi',\n",
       " 'hem',\n",
       " 'hep',\n",
       " 'hepsi',\n",
       " 'her',\n",
       " 'hiç',\n",
       " 'ile',\n",
       " 'ise',\n",
       " 'için',\n",
       " 'kez',\n",
       " 'ki',\n",
       " 'kim',\n",
       " 'mu',\n",
       " 'mü',\n",
       " 'mı',\n",
       " 'nasıl',\n",
       " 'ne',\n",
       " 'neden',\n",
       " 'nerde',\n",
       " 'nerede',\n",
       " 'nereye',\n",
       " 'niye',\n",
       " 'niçin',\n",
       " 'o',\n",
       " 'sanki',\n",
       " 'siz',\n",
       " 'tüm',\n",
       " 've',\n",
       " 'veya',\n",
       " 'ya',\n",
       " 'yani',\n",
       " 'çok',\n",
       " 'çünkü',\n",
       " 'şey',\n",
       " 'şu'}"
      ]
     },
     "execution_count": 155,
     "metadata": {},
     "output_type": "execute_result"
    }
   ],
   "source": [
    "stop_words"
   ]
  },
  {
   "cell_type": "code",
   "execution_count": 162,
   "id": "f65db9d3-d744-4feb-90da-5e72e2397a5f",
   "metadata": {},
   "outputs": [],
   "source": [
    "words = word_tokenize(without_spase.lower())\n",
    "filtered_words = [word for word in words if word not in stop_words]\n",
    "new_text = ' '.join(filtered_words)"
   ]
  },
  {
   "cell_type": "code",
   "execution_count": 163,
   "id": "a1d7367f-6d64-45fa-8270-6dca75a6a191",
   "metadata": {},
   "outputs": [
    {
     "data": {
      "text/plain": [
       "'aman allahım ! olur ?'"
      ]
     },
     "execution_count": 163,
     "metadata": {},
     "output_type": "execute_result"
    }
   ],
   "source": [
    "new_text"
   ]
  },
  {
   "cell_type": "code",
   "execution_count": 164,
   "id": "7b7a27c3-f09c-4393-8cfd-d589e7853c98",
   "metadata": {},
   "outputs": [],
   "source": [
    "def tokanize(text):\n",
    "    words = text.split()\n",
    "    stems = []\n",
    "    for word in words:\n",
    "        analysis_results = morphology.analyze(word)\n",
    "        if analysis_results:\n",
    "            for analysis in analysis_results:\n",
    "                if hasattr(analysis, \"get_stem\"):\n",
    "                    stems.append(analysis.get_stem())\n",
    "                    break  \n",
    "    return stems"
   ]
  },
  {
   "cell_type": "code",
   "execution_count": 165,
   "id": "ccd2babb-07b1-4c29-b6f8-3e12c6d57862",
   "metadata": {},
   "outputs": [],
   "source": [
    "onli_token = tokanize(new_text)"
   ]
  },
  {
   "cell_type": "code",
   "execution_count": 166,
   "id": "2b875e34-4d26-4508-8e85-6a8f3c555fa5",
   "metadata": {},
   "outputs": [
    {
     "data": {
      "text/plain": [
       "['aman', 'allah', '!', 'olur', '?']"
      ]
     },
     "execution_count": 166,
     "metadata": {},
     "output_type": "execute_result"
    }
   ],
   "source": [
    "onli_token"
   ]
  },
  {
   "cell_type": "code",
   "execution_count": 168,
   "id": "7816a801-155c-4909-8b3e-1c00db7ee56d",
   "metadata": {},
   "outputs": [],
   "source": [
    "from tensorflow.keras.preprocessing.text import Tokenizer\n",
    "from tensorflow.keras.preprocessing.sequence import pad_sequences\n",
    "\n",
    "processed_texts = [' '.join(tokens) for tokens in onli_token]\n",
    "tokenizer = Tokenizer()\n",
    "tokenizer.fit_on_texts(processed_texts)\n",
    "sequences = tokenizer.texts_to_sequences(processed_texts)"
   ]
  },
  {
   "cell_type": "code",
   "execution_count": 169,
   "id": "da6cbe67-0e29-4b0e-8d67-5a421bbb6cae",
   "metadata": {},
   "outputs": [],
   "source": [
    "max_sequence_length = 40\n",
    "padded_sequences = pad_sequences(sequences, maxlen=max_sequence_length, padding='post')"
   ]
  },
  {
   "cell_type": "code",
   "execution_count": 170,
   "id": "8f4de530-4cfb-40a5-a041-c21f1a8ed04c",
   "metadata": {},
   "outputs": [
    {
     "data": {
      "text/plain": [
       "array([[1, 3, 1, 4, 0, 0, 0, 0, 0, 0, 0, 0, 0, 0, 0, 0, 0, 0, 0, 0, 0, 0,\n",
       "        0, 0, 0, 0, 0, 0, 0, 0, 0, 0, 0, 0, 0, 0, 0, 0, 0, 0],\n",
       "       [1, 2, 2, 1, 5, 0, 0, 0, 0, 0, 0, 0, 0, 0, 0, 0, 0, 0, 0, 0, 0, 0,\n",
       "        0, 0, 0, 0, 0, 0, 0, 0, 0, 0, 0, 0, 0, 0, 0, 0, 0, 0],\n",
       "       [0, 0, 0, 0, 0, 0, 0, 0, 0, 0, 0, 0, 0, 0, 0, 0, 0, 0, 0, 0, 0, 0,\n",
       "        0, 0, 0, 0, 0, 0, 0, 0, 0, 0, 0, 0, 0, 0, 0, 0, 0, 0],\n",
       "       [6, 2, 7, 8, 0, 0, 0, 0, 0, 0, 0, 0, 0, 0, 0, 0, 0, 0, 0, 0, 0, 0,\n",
       "        0, 0, 0, 0, 0, 0, 0, 0, 0, 0, 0, 0, 0, 0, 0, 0, 0, 0],\n",
       "       [0, 0, 0, 0, 0, 0, 0, 0, 0, 0, 0, 0, 0, 0, 0, 0, 0, 0, 0, 0, 0, 0,\n",
       "        0, 0, 0, 0, 0, 0, 0, 0, 0, 0, 0, 0, 0, 0, 0, 0, 0, 0]])"
      ]
     },
     "execution_count": 170,
     "metadata": {},
     "output_type": "execute_result"
    }
   ],
   "source": [
    "padded_sequences"
   ]
  },
  {
   "cell_type": "code",
   "execution_count": 175,
   "id": "4a883d70-7600-4597-8639-f68786ae5d64",
   "metadata": {},
   "outputs": [
    {
     "name": "stdout",
     "output_type": "stream",
     "text": [
      "1/1 [==============================] - 0s 32ms/step\n"
     ]
    }
   ],
   "source": [
    "sonuc = model.predict(padded_sequences)[0]"
   ]
  },
  {
   "cell_type": "code",
   "execution_count": 176,
   "id": "e12e290e-177e-49e8-8075-e46e7997c75b",
   "metadata": {},
   "outputs": [
    {
     "data": {
      "text/plain": [
       "array([4.4941530e-04, 7.5453599e-03, 9.8821461e-01, 1.3431215e-03,\n",
       "       2.4475311e-03], dtype=float32)"
      ]
     },
     "execution_count": 176,
     "metadata": {},
     "output_type": "execute_result"
    }
   ],
   "source": [
    "sonuc"
   ]
  },
  {
   "cell_type": "code",
   "execution_count": 177,
   "id": "2ff1bd36-22b0-438b-bd92-22e8107525ec",
   "metadata": {},
   "outputs": [
    {
     "data": {
      "text/plain": [
       "12"
      ]
     },
     "execution_count": 177,
     "metadata": {},
     "output_type": "execute_result"
    }
   ],
   "source": [
    "sınıf"
   ]
  },
  {
   "cell_type": "code",
   "execution_count": null,
   "id": "ea572288-17e9-4965-8a85-8b634a8948da",
   "metadata": {},
   "outputs": [],
   "source": []
  }
 ],
 "metadata": {
  "kernelspec": {
   "display_name": "Python 3 (ipykernel)",
   "language": "python",
   "name": "python3"
  },
  "language_info": {
   "codemirror_mode": {
    "name": "ipython",
    "version": 3
   },
   "file_extension": ".py",
   "mimetype": "text/x-python",
   "name": "python",
   "nbconvert_exporter": "python",
   "pygments_lexer": "ipython3",
   "version": "3.10.15"
  }
 },
 "nbformat": 4,
 "nbformat_minor": 5
}
